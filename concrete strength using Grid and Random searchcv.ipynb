{
 "cells": [
  {
   "cell_type": "code",
   "execution_count": 1253,
   "id": "1e37ea74",
   "metadata": {},
   "outputs": [],
   "source": [
    "import numpy as np\n",
    "import pandas as pd\n",
    "import matplotlib.pyplot as plt         \n",
    "import seaborn as sns\n",
    "from sklearn.model_selection import train_test_split\n",
    "from sklearn.linear_model import LinearRegression\n",
    "from warnings import filterwarnings\n",
    "from sklearn import preprocessing\n",
    "import warnings\n",
    "warnings.filterwarnings('ignore')"
   ]
  },
  {
   "cell_type": "code",
   "execution_count": 1254,
   "id": "406aeb44",
   "metadata": {},
   "outputs": [],
   "source": [
    "df = pd.read_csv(\"concrete.csv\")"
   ]
  },
  {
   "cell_type": "code",
   "execution_count": 1255,
   "id": "473753b3",
   "metadata": {},
   "outputs": [
    {
     "data": {
      "text/html": [
       "<div>\n",
       "<style scoped>\n",
       "    .dataframe tbody tr th:only-of-type {\n",
       "        vertical-align: middle;\n",
       "    }\n",
       "\n",
       "    .dataframe tbody tr th {\n",
       "        vertical-align: top;\n",
       "    }\n",
       "\n",
       "    .dataframe thead th {\n",
       "        text-align: right;\n",
       "    }\n",
       "</style>\n",
       "<table border=\"1\" class=\"dataframe\">\n",
       "  <thead>\n",
       "    <tr style=\"text-align: right;\">\n",
       "      <th></th>\n",
       "      <th>cement</th>\n",
       "      <th>slag</th>\n",
       "      <th>ash</th>\n",
       "      <th>water</th>\n",
       "      <th>superplastic</th>\n",
       "      <th>coarseagg</th>\n",
       "      <th>fineagg</th>\n",
       "      <th>age</th>\n",
       "      <th>strength</th>\n",
       "    </tr>\n",
       "  </thead>\n",
       "  <tbody>\n",
       "    <tr>\n",
       "      <th>0</th>\n",
       "      <td>141.3</td>\n",
       "      <td>212.0</td>\n",
       "      <td>0.0</td>\n",
       "      <td>203.5</td>\n",
       "      <td>0.0</td>\n",
       "      <td>971.8</td>\n",
       "      <td>748.5</td>\n",
       "      <td>28</td>\n",
       "      <td>29.89</td>\n",
       "    </tr>\n",
       "    <tr>\n",
       "      <th>1</th>\n",
       "      <td>168.9</td>\n",
       "      <td>42.2</td>\n",
       "      <td>124.3</td>\n",
       "      <td>158.3</td>\n",
       "      <td>10.8</td>\n",
       "      <td>1080.8</td>\n",
       "      <td>796.2</td>\n",
       "      <td>14</td>\n",
       "      <td>23.51</td>\n",
       "    </tr>\n",
       "    <tr>\n",
       "      <th>2</th>\n",
       "      <td>250.0</td>\n",
       "      <td>0.0</td>\n",
       "      <td>95.7</td>\n",
       "      <td>187.4</td>\n",
       "      <td>5.5</td>\n",
       "      <td>956.9</td>\n",
       "      <td>861.2</td>\n",
       "      <td>28</td>\n",
       "      <td>29.22</td>\n",
       "    </tr>\n",
       "    <tr>\n",
       "      <th>3</th>\n",
       "      <td>266.0</td>\n",
       "      <td>114.0</td>\n",
       "      <td>0.0</td>\n",
       "      <td>228.0</td>\n",
       "      <td>0.0</td>\n",
       "      <td>932.0</td>\n",
       "      <td>670.0</td>\n",
       "      <td>28</td>\n",
       "      <td>45.85</td>\n",
       "    </tr>\n",
       "    <tr>\n",
       "      <th>4</th>\n",
       "      <td>154.8</td>\n",
       "      <td>183.4</td>\n",
       "      <td>0.0</td>\n",
       "      <td>193.3</td>\n",
       "      <td>9.1</td>\n",
       "      <td>1047.4</td>\n",
       "      <td>696.7</td>\n",
       "      <td>28</td>\n",
       "      <td>18.29</td>\n",
       "    </tr>\n",
       "    <tr>\n",
       "      <th>5</th>\n",
       "      <td>255.0</td>\n",
       "      <td>0.0</td>\n",
       "      <td>0.0</td>\n",
       "      <td>192.0</td>\n",
       "      <td>0.0</td>\n",
       "      <td>889.8</td>\n",
       "      <td>945.0</td>\n",
       "      <td>90</td>\n",
       "      <td>21.86</td>\n",
       "    </tr>\n",
       "    <tr>\n",
       "      <th>6</th>\n",
       "      <td>166.8</td>\n",
       "      <td>250.2</td>\n",
       "      <td>0.0</td>\n",
       "      <td>203.5</td>\n",
       "      <td>0.0</td>\n",
       "      <td>975.6</td>\n",
       "      <td>692.6</td>\n",
       "      <td>7</td>\n",
       "      <td>15.75</td>\n",
       "    </tr>\n",
       "    <tr>\n",
       "      <th>7</th>\n",
       "      <td>251.4</td>\n",
       "      <td>0.0</td>\n",
       "      <td>118.3</td>\n",
       "      <td>188.5</td>\n",
       "      <td>6.4</td>\n",
       "      <td>1028.4</td>\n",
       "      <td>757.7</td>\n",
       "      <td>56</td>\n",
       "      <td>36.64</td>\n",
       "    </tr>\n",
       "    <tr>\n",
       "      <th>8</th>\n",
       "      <td>296.0</td>\n",
       "      <td>0.0</td>\n",
       "      <td>0.0</td>\n",
       "      <td>192.0</td>\n",
       "      <td>0.0</td>\n",
       "      <td>1085.0</td>\n",
       "      <td>765.0</td>\n",
       "      <td>28</td>\n",
       "      <td>21.65</td>\n",
       "    </tr>\n",
       "    <tr>\n",
       "      <th>9</th>\n",
       "      <td>155.0</td>\n",
       "      <td>184.0</td>\n",
       "      <td>143.0</td>\n",
       "      <td>194.0</td>\n",
       "      <td>9.0</td>\n",
       "      <td>880.0</td>\n",
       "      <td>699.0</td>\n",
       "      <td>28</td>\n",
       "      <td>28.99</td>\n",
       "    </tr>\n",
       "  </tbody>\n",
       "</table>\n",
       "</div>"
      ],
      "text/plain": [
       "   cement   slag    ash  water  superplastic  coarseagg  fineagg  age  \\\n",
       "0   141.3  212.0    0.0  203.5           0.0      971.8    748.5   28   \n",
       "1   168.9   42.2  124.3  158.3          10.8     1080.8    796.2   14   \n",
       "2   250.0    0.0   95.7  187.4           5.5      956.9    861.2   28   \n",
       "3   266.0  114.0    0.0  228.0           0.0      932.0    670.0   28   \n",
       "4   154.8  183.4    0.0  193.3           9.1     1047.4    696.7   28   \n",
       "5   255.0    0.0    0.0  192.0           0.0      889.8    945.0   90   \n",
       "6   166.8  250.2    0.0  203.5           0.0      975.6    692.6    7   \n",
       "7   251.4    0.0  118.3  188.5           6.4     1028.4    757.7   56   \n",
       "8   296.0    0.0    0.0  192.0           0.0     1085.0    765.0   28   \n",
       "9   155.0  184.0  143.0  194.0           9.0      880.0    699.0   28   \n",
       "\n",
       "   strength  \n",
       "0     29.89  \n",
       "1     23.51  \n",
       "2     29.22  \n",
       "3     45.85  \n",
       "4     18.29  \n",
       "5     21.86  \n",
       "6     15.75  \n",
       "7     36.64  \n",
       "8     21.65  \n",
       "9     28.99  "
      ]
     },
     "execution_count": 1255,
     "metadata": {},
     "output_type": "execute_result"
    }
   ],
   "source": [
    "df.head(10)"
   ]
  },
  {
   "cell_type": "code",
   "execution_count": 1256,
   "id": "1df5f90e",
   "metadata": {},
   "outputs": [
    {
     "data": {
      "text/plain": [
       "(1030, 9)"
      ]
     },
     "execution_count": 1256,
     "metadata": {},
     "output_type": "execute_result"
    }
   ],
   "source": [
    "df.shape"
   ]
  },
  {
   "cell_type": "code",
   "execution_count": 1257,
   "id": "05bb11cf",
   "metadata": {},
   "outputs": [
    {
     "name": "stdout",
     "output_type": "stream",
     "text": [
      "<class 'pandas.core.frame.DataFrame'>\n",
      "RangeIndex: 1030 entries, 0 to 1029\n",
      "Data columns (total 9 columns):\n",
      " #   Column        Non-Null Count  Dtype  \n",
      "---  ------        --------------  -----  \n",
      " 0   cement        1030 non-null   float64\n",
      " 1   slag          1030 non-null   float64\n",
      " 2   ash           1030 non-null   float64\n",
      " 3   water         1030 non-null   float64\n",
      " 4   superplastic  1030 non-null   float64\n",
      " 5   coarseagg     1030 non-null   float64\n",
      " 6   fineagg       1030 non-null   float64\n",
      " 7   age           1030 non-null   int64  \n",
      " 8   strength      1030 non-null   float64\n",
      "dtypes: float64(8), int64(1)\n",
      "memory usage: 72.5 KB\n"
     ]
    }
   ],
   "source": [
    "df.info()"
   ]
  },
  {
   "cell_type": "code",
   "execution_count": 1258,
   "id": "ae3d64d6",
   "metadata": {},
   "outputs": [
    {
     "data": {
      "text/plain": [
       "cement          0\n",
       "slag            0\n",
       "ash             0\n",
       "water           0\n",
       "superplastic    0\n",
       "coarseagg       0\n",
       "fineagg         0\n",
       "age             0\n",
       "strength        0\n",
       "dtype: int64"
      ]
     },
     "execution_count": 1258,
     "metadata": {},
     "output_type": "execute_result"
    }
   ],
   "source": [
    "df.isnull().sum()"
   ]
  },
  {
   "cell_type": "code",
   "execution_count": 1259,
   "id": "1c903e0b",
   "metadata": {},
   "outputs": [],
   "source": [
    "# visualization"
   ]
  },
  {
   "cell_type": "code",
   "execution_count": 1260,
   "id": "287870fa",
   "metadata": {},
   "outputs": [
    {
     "data": {
      "text/plain": [
       "<AxesSubplot:xlabel='strength', ylabel='Count'>"
      ]
     },
     "execution_count": 1260,
     "metadata": {},
     "output_type": "execute_result"
    },
    {
     "data": {
      "image/png": "[encoded data removed]",
      "text/plain": [
       "<Figure size 432x288 with 1 Axes>"
      ]
     },
     "metadata": {
      "needs_background": "light"
     },
     "output_type": "display_data"
    }
   ],
   "source": [
    "sns.histplot(df['strength'],kde=False,bins=20)"
   ]
  },
  {
   "cell_type": "code",
   "execution_count": 1261,
   "id": "1bb1e3e0",
   "metadata": {},
   "outputs": [
    {
     "data": {
      "text/plain": [
       "<AxesSubplot:xlabel='water', ylabel='count'>"
      ]
     },
     "execution_count": 1261,
     "metadata": {},
     "output_type": "execute_result"
    },
    {
     "data": {
      "image/png": "[encoded data removed]",
      "text/plain": [
       "<Figure size 432x288 with 1 Axes>"
      ]
     },
     "metadata": {
      "needs_background": "light"
     },
     "output_type": "display_data"
    }
   ],
   "source": [
    "sns.countplot(x=\"water\",data=df)"
   ]
  },
  {
   "cell_type": "code",
   "execution_count": 1262,
   "id": "1326a4f8",
   "metadata": {},
   "outputs": [
    {
     "data": {
      "text/plain": [
       "<AxesSubplot:xlabel='age', ylabel='count'>"
      ]
     },
     "execution_count": 1262,
     "metadata": {},
     "output_type": "execute_result"
    },
    {
     "data": {
      "image/png": "[encoded data removed]",
      "text/plain": [
       "<Figure size 432x288 with 1 Axes>"
      ]
     },
     "metadata": {
      "needs_background": "light"
     },
     "output_type": "display_data"
    }
   ],
   "source": [
    "sns.countplot(x = df[\"age\"])"
   ]
  },
  {
   "cell_type": "code",
   "execution_count": 1263,
   "id": "6e5bcf65",
   "metadata": {},
   "outputs": [
    {
     "data": {
      "text/plain": [
       "<AxesSubplot:xlabel='cement', ylabel='count'>"
      ]
     },
     "execution_count": 1263,
     "metadata": {},
     "output_type": "execute_result"
    },
    {
     "data": {
      "image/png": "[encoded data removed]",
      "text/plain": [
       "<Figure size 936x504 with 1 Axes>"
      ]
     },
     "metadata": {
      "needs_background": "light"
     },
     "output_type": "display_data"
    }
   ],
   "source": [
    "plt.figure(figsize=(13, 7))\n",
    "sns.countplot(x = df[\"cement\"])"
   ]
  },
  {
   "cell_type": "code",
   "execution_count": 1264,
   "id": "d774cb96",
   "metadata": {},
   "outputs": [
    {
     "data": {
      "text/plain": [
       "Text(0, 0.5, 'strength')"
      ]
     },
     "execution_count": 1264,
     "metadata": {},
     "output_type": "execute_result"
    },
    {
     "data": {
      "image/png": "[encoded data removed]",
      "text/plain": [
       "<Figure size 1080x504 with 1 Axes>"
      ]
     },
     "metadata": {
      "needs_background": "light"
     },
     "output_type": "display_data"
    }
   ],
   "source": [
    "plt.figure(figsize=(15,7))\n",
    "sns.scatterplot(x = df[\"age\"], y = df[\"strength\"])\n",
    "plt.xlabel('age')\n",
    "plt.ylabel('strength')"
   ]
  },
  {
   "cell_type": "code",
   "execution_count": null,
   "id": "035bb2fb",
   "metadata": {},
   "outputs": [],
   "source": []
  },
  {
   "cell_type": "code",
   "execution_count": 1265,
   "id": "85efa10b",
   "metadata": {},
   "outputs": [],
   "source": [
    "def remove_outlier(col):\n",
    "    sorted(col)\n",
    "    Q1,Q3=col.quantile([0.25,0.75])\n",
    "    IQR=Q3-Q1\n",
    "    lower_range=Q1-(1.5*IQR)\n",
    "    upper_range=Q3+(1.5*IQR)\n",
    "    return lower_range,upper_range"
   ]
  },
  {
   "cell_type": "code",
   "execution_count": 1266,
   "id": "b548a99b",
   "metadata": {},
   "outputs": [
    {
     "data": {
      "image/png": "[encoded data removed]",
      "text/plain": [
       "<Figure size 432x288 with 1 Axes>"
      ]
     },
     "metadata": {
      "needs_background": "light"
     },
     "output_type": "display_data"
    }
   ],
   "source": [
    "df.boxplot(column=[\"strength\"])\n",
    "plt.show()"
   ]
  },
  {
   "cell_type": "code",
   "execution_count": 1267,
   "id": "bde40fa7",
   "metadata": {},
   "outputs": [],
   "source": [
    "lowcement,uppcement=remove_outlier(df['slag'])\n",
    "df[\"slag\"]=np.where(df['slag']>uppcement,uppcement,df['slag'])\n",
    "df[\"slag\"]=np.where(df['slag']<lowcement,lowcement,df['slag'])"
   ]
  },
  {
   "cell_type": "code",
   "execution_count": 1268,
   "id": "ded4a1e2",
   "metadata": {},
   "outputs": [
    {
     "data": {
      "image/png": "[encoded data removed]",
      "text/plain": [
       "<Figure size 432x288 with 1 Axes>"
      ]
     },
     "metadata": {
      "needs_background": "light"
     },
     "output_type": "display_data"
    }
   ],
   "source": [
    "df.boxplot(column=[\"slag\"])\n",
    "plt.show()"
   ]
  },
  {
   "cell_type": "code",
   "execution_count": 1269,
   "id": "84003108",
   "metadata": {},
   "outputs": [],
   "source": [
    "lowcement,uppcement=remove_outlier(df['water'])\n",
    "df[\"water\"]=np.where(df['water']>uppcement,uppcement,df['water'])\n",
    "df[\"water\"]=np.where(df['water']<lowcement,lowcement,df['water'])"
   ]
  },
  {
   "cell_type": "code",
   "execution_count": 1270,
   "id": "b535d5f8",
   "metadata": {},
   "outputs": [],
   "source": [
    "lowcement,uppcement=remove_outlier(df['superplastic'])\n",
    "df[\"superplastic\"]=np.where(df['superplastic']>uppcement,uppcement,df['superplastic'])\n",
    "df[\"superplastic\"]=np.where(df['superplastic']<lowcement,lowcement,df['superplastic'])"
   ]
  },
  {
   "cell_type": "code",
   "execution_count": 1271,
   "id": "fc065771",
   "metadata": {},
   "outputs": [],
   "source": [
    "lowcement,uppcement=remove_outlier(df['fineagg'])\n",
    "df[\"fineagg\"]=np.where(df['fineagg']>uppcement,uppcement,df['fineagg'])\n",
    "df[\"fineagg\"]=np.where(df['fineagg']<lowcement,lowcement,df['fineagg'])"
   ]
  },
  {
   "cell_type": "code",
   "execution_count": 1272,
   "id": "a619bc14",
   "metadata": {},
   "outputs": [],
   "source": [
    "lowcement,upplotfrontage=remove_outlier(df['age'])\n",
    "df[\"age\"]=np.where(df['age']>uppcement,uppcement,df['age'])\n",
    "df[\"age\"]=np.where(df['age']<lowcement,lowcement,df[\"age\"])"
   ]
  },
  {
   "cell_type": "code",
   "execution_count": 1273,
   "id": "aba27ab3",
   "metadata": {},
   "outputs": [],
   "source": [
    "lowcement,uppcement=remove_outlier(df['strength'])\n",
    "df[\"strength\"]=np.where(df['strength']>uppcement,uppcement,df['strength'])\n",
    "df[\"strength\"]=np.where(df['strength']<lowcement,lowcement,df[\"strength\"])"
   ]
  },
  {
   "cell_type": "code",
   "execution_count": 1274,
   "id": "b75fa9f9",
   "metadata": {},
   "outputs": [
    {
     "data": {
      "text/html": [
       "<div>\n",
       "<style scoped>\n",
       "    .dataframe tbody tr th:only-of-type {\n",
       "        vertical-align: middle;\n",
       "    }\n",
       "\n",
       "    .dataframe tbody tr th {\n",
       "        vertical-align: top;\n",
       "    }\n",
       "\n",
       "    .dataframe thead th {\n",
       "        text-align: right;\n",
       "    }\n",
       "</style>\n",
       "<table border=\"1\" class=\"dataframe\">\n",
       "  <thead>\n",
       "    <tr style=\"text-align: right;\">\n",
       "      <th></th>\n",
       "      <th>cement</th>\n",
       "      <th>slag</th>\n",
       "      <th>ash</th>\n",
       "      <th>water</th>\n",
       "      <th>superplastic</th>\n",
       "      <th>coarseagg</th>\n",
       "      <th>fineagg</th>\n",
       "      <th>age</th>\n",
       "      <th>strength</th>\n",
       "    </tr>\n",
       "  </thead>\n",
       "  <tbody>\n",
       "    <tr>\n",
       "      <th>cement</th>\n",
       "      <td>1.000000</td>\n",
       "      <td>-0.275239</td>\n",
       "      <td>-0.397467</td>\n",
       "      <td>-0.081617</td>\n",
       "      <td>0.079619</td>\n",
       "      <td>-0.109349</td>\n",
       "      <td>-0.225311</td>\n",
       "      <td>0.081946</td>\n",
       "      <td>0.498008</td>\n",
       "    </tr>\n",
       "    <tr>\n",
       "      <th>slag</th>\n",
       "      <td>-0.275239</td>\n",
       "      <td>1.000000</td>\n",
       "      <td>-0.323590</td>\n",
       "      <td>0.107031</td>\n",
       "      <td>0.043724</td>\n",
       "      <td>-0.284023</td>\n",
       "      <td>-0.283263</td>\n",
       "      <td>-0.044232</td>\n",
       "      <td>0.134621</td>\n",
       "    </tr>\n",
       "    <tr>\n",
       "      <th>ash</th>\n",
       "      <td>-0.397467</td>\n",
       "      <td>-0.323590</td>\n",
       "      <td>1.000000</td>\n",
       "      <td>-0.258379</td>\n",
       "      <td>0.395319</td>\n",
       "      <td>-0.009961</td>\n",
       "      <td>0.080962</td>\n",
       "      <td>-0.154371</td>\n",
       "      <td>-0.105577</td>\n",
       "    </tr>\n",
       "    <tr>\n",
       "      <th>water</th>\n",
       "      <td>-0.081617</td>\n",
       "      <td>0.107031</td>\n",
       "      <td>-0.258379</td>\n",
       "      <td>1.000000</td>\n",
       "      <td>-0.665260</td>\n",
       "      <td>-0.180249</td>\n",
       "      <td>-0.448979</td>\n",
       "      <td>0.279733</td>\n",
       "      <td>-0.290969</td>\n",
       "    </tr>\n",
       "    <tr>\n",
       "      <th>superplastic</th>\n",
       "      <td>0.079619</td>\n",
       "      <td>0.043724</td>\n",
       "      <td>0.395319</td>\n",
       "      <td>-0.665260</td>\n",
       "      <td>1.000000</td>\n",
       "      <td>-0.261624</td>\n",
       "      <td>0.216947</td>\n",
       "      <td>-0.197312</td>\n",
       "      <td>0.366235</td>\n",
       "    </tr>\n",
       "    <tr>\n",
       "      <th>coarseagg</th>\n",
       "      <td>-0.109349</td>\n",
       "      <td>-0.284023</td>\n",
       "      <td>-0.009961</td>\n",
       "      <td>-0.180249</td>\n",
       "      <td>-0.261624</td>\n",
       "      <td>1.000000</td>\n",
       "      <td>-0.176542</td>\n",
       "      <td>-0.003016</td>\n",
       "      <td>-0.165250</td>\n",
       "    </tr>\n",
       "    <tr>\n",
       "      <th>fineagg</th>\n",
       "      <td>-0.225311</td>\n",
       "      <td>-0.283263</td>\n",
       "      <td>0.080962</td>\n",
       "      <td>-0.448979</td>\n",
       "      <td>0.216947</td>\n",
       "      <td>-0.176542</td>\n",
       "      <td>1.000000</td>\n",
       "      <td>-0.156558</td>\n",
       "      <td>-0.169601</td>\n",
       "    </tr>\n",
       "    <tr>\n",
       "      <th>age</th>\n",
       "      <td>0.081946</td>\n",
       "      <td>-0.044232</td>\n",
       "      <td>-0.154371</td>\n",
       "      <td>0.279733</td>\n",
       "      <td>-0.197312</td>\n",
       "      <td>-0.003016</td>\n",
       "      <td>-0.156558</td>\n",
       "      <td>1.000000</td>\n",
       "      <td>0.329068</td>\n",
       "    </tr>\n",
       "    <tr>\n",
       "      <th>strength</th>\n",
       "      <td>0.498008</td>\n",
       "      <td>0.134621</td>\n",
       "      <td>-0.105577</td>\n",
       "      <td>-0.290969</td>\n",
       "      <td>0.366235</td>\n",
       "      <td>-0.165250</td>\n",
       "      <td>-0.169601</td>\n",
       "      <td>0.329068</td>\n",
       "      <td>1.000000</td>\n",
       "    </tr>\n",
       "  </tbody>\n",
       "</table>\n",
       "</div>"
      ],
      "text/plain": [
       "                cement      slag       ash     water  superplastic  coarseagg  \\\n",
       "cement        1.000000 -0.275239 -0.397467 -0.081617      0.079619  -0.109349   \n",
       "slag         -0.275239  1.000000 -0.323590  0.107031      0.043724  -0.284023   \n",
       "ash          -0.397467 -0.323590  1.000000 -0.258379      0.395319  -0.009961   \n",
       "water        -0.081617  0.107031 -0.258379  1.000000     -0.665260  -0.180249   \n",
       "superplastic  0.079619  0.043724  0.395319 -0.665260      1.000000  -0.261624   \n",
       "coarseagg    -0.109349 -0.284023 -0.009961 -0.180249     -0.261624   1.000000   \n",
       "fineagg      -0.225311 -0.283263  0.080962 -0.448979      0.216947  -0.176542   \n",
       "age           0.081946 -0.044232 -0.154371  0.279733     -0.197312  -0.003016   \n",
       "strength      0.498008  0.134621 -0.105577 -0.290969      0.366235  -0.165250   \n",
       "\n",
       "               fineagg       age  strength  \n",
       "cement       -0.225311  0.081946  0.498008  \n",
       "slag         -0.283263 -0.044232  0.134621  \n",
       "ash           0.080962 -0.154371 -0.105577  \n",
       "water        -0.448979  0.279733 -0.290969  \n",
       "superplastic  0.216947 -0.197312  0.366235  \n",
       "coarseagg    -0.176542 -0.003016 -0.165250  \n",
       "fineagg       1.000000 -0.156558 -0.169601  \n",
       "age          -0.156558  1.000000  0.329068  \n",
       "strength     -0.169601  0.329068  1.000000  "
      ]
     },
     "execution_count": 1274,
     "metadata": {},
     "output_type": "execute_result"
    }
   ],
   "source": [
    "df.corr()"
   ]
  },
  {
   "cell_type": "code",
   "execution_count": 1275,
   "id": "ae114b33",
   "metadata": {},
   "outputs": [],
   "source": [
    "x=df.drop(['strength'],axis=1)\n",
    "y=df[['strength']]"
   ]
  },
  {
   "cell_type": "code",
   "execution_count": 1276,
   "id": "20d08a86",
   "metadata": {},
   "outputs": [],
   "source": [
    "x_train,x_test,y_train,y_test=train_test_split(x,y,train_size=0.7,test_size=0.3,random_state=1)"
   ]
  },
  {
   "cell_type": "code",
   "execution_count": 1277,
   "id": "e5079563",
   "metadata": {},
   "outputs": [
    {
     "data": {
      "text/html": [
       "<style>#sk-container-id-251 {color: black;background-color: white;}#sk-container-id-251 pre{padding: 0;}#sk-container-id-251 div.sk-toggleable {background-color: white;}#sk-container-id-251 label.sk-toggleable__label {cursor: pointer;display: block;width: 100%;margin-bottom: 0;padding: 0.3em;box-sizing: border-box;text-align: center;}#sk-container-id-251 label.sk-toggleable__label-arrow:before {content: \"▸\";float: left;margin-right: 0.25em;color: #696969;}#sk-container-id-251 label.sk-toggleable__label-arrow:hover:before {color: black;}#sk-container-id-251 div.sk-estimator:hover label.sk-toggleable__label-arrow:before {color: black;}#sk-container-id-251 div.sk-toggleable__content {max-height: 0;max-width: 0;overflow: hidden;text-align: left;background-color: #f0f8ff;}#sk-container-id-251 div.sk-toggleable__content pre {margin: 0.2em;color: black;border-radius: 0.25em;background-color: #f0f8ff;}#sk-container-id-251 input.sk-toggleable__control:checked~div.sk-toggleable__content {max-height: 200px;max-width: 100%;overflow: auto;}#sk-container-id-251 input.sk-toggleable__control:checked~label.sk-toggleable__label-arrow:before {content: \"▾\";}#sk-container-id-251 div.sk-estimator input.sk-toggleable__control:checked~label.sk-toggleable__label {background-color: #d4ebff;}#sk-container-id-251 div.sk-label input.sk-toggleable__control:checked~label.sk-toggleable__label {background-color: #d4ebff;}#sk-container-id-251 input.sk-hidden--visually {border: 0;clip: rect(1px 1px 1px 1px);clip: rect(1px, 1px, 1px, 1px);height: 1px;margin: -1px;overflow: hidden;padding: 0;position: absolute;width: 1px;}#sk-container-id-251 div.sk-estimator {font-family: monospace;background-color: #f0f8ff;border: 1px dotted black;border-radius: 0.25em;box-sizing: border-box;margin-bottom: 0.5em;}#sk-container-id-251 div.sk-estimator:hover {background-color: #d4ebff;}#sk-container-id-251 div.sk-parallel-item::after {content: \"\";width: 100%;border-bottom: 1px solid gray;flex-grow: 1;}#sk-container-id-251 div.sk-label:hover label.sk-toggleable__label {background-color: #d4ebff;}#sk-container-id-251 div.sk-serial::before {content: \"\";position: absolute;border-left: 1px solid gray;box-sizing: border-box;top: 0;bottom: 0;left: 50%;z-index: 0;}#sk-container-id-251 div.sk-serial {display: flex;flex-direction: column;align-items: center;background-color: white;padding-right: 0.2em;padding-left: 0.2em;position: relative;}#sk-container-id-251 div.sk-item {position: relative;z-index: 1;}#sk-container-id-251 div.sk-parallel {display: flex;align-items: stretch;justify-content: center;background-color: white;position: relative;}#sk-container-id-251 div.sk-item::before, #sk-container-id-251 div.sk-parallel-item::before {content: \"\";position: absolute;border-left: 1px solid gray;box-sizing: border-box;top: 0;bottom: 0;left: 50%;z-index: -1;}#sk-container-id-251 div.sk-parallel-item {display: flex;flex-direction: column;z-index: 1;position: relative;background-color: white;}#sk-container-id-251 div.sk-parallel-item:first-child::after {align-self: flex-end;width: 50%;}#sk-container-id-251 div.sk-parallel-item:last-child::after {align-self: flex-start;width: 50%;}#sk-container-id-251 div.sk-parallel-item:only-child::after {width: 0;}#sk-container-id-251 div.sk-dashed-wrapped {border: 1px dashed gray;margin: 0 0.4em 0.5em 0.4em;box-sizing: border-box;padding-bottom: 0.4em;background-color: white;}#sk-container-id-251 div.sk-label label {font-family: monospace;font-weight: bold;display: inline-block;line-height: 1.2em;}#sk-container-id-251 div.sk-label-container {text-align: center;}#sk-container-id-251 div.sk-container {/* jupyter's `normalize.less` sets `[hidden] { display: none; }` but bootstrap.min.css set `[hidden] { display: none !important; }` so we also need the `!important` here to be able to override the default hidden behavior on the sphinx rendered scikit-learn.org. See: https://github.com/scikit-learn/scikit-learn/issues/21755 */display: inline-block !important;position: relative;}#sk-container-id-251 div.sk-text-repr-fallback {display: none;}</style><div id=\"sk-container-id-251\" class=\"sk-top-container\"><div class=\"sk-text-repr-fallback\"><pre>LinearRegression()</pre><b>In a Jupyter environment, please rerun this cell to show the HTML representation or trust the notebook. <br />On GitHub, the HTML representation is unable to render, please try loading this page with nbviewer.org.</b></div><div class=\"sk-container\" hidden><div class=\"sk-item\"><div class=\"sk-estimator sk-toggleable\"><input class=\"sk-toggleable__control sk-hidden--visually\" id=\"sk-estimator-id-473\" type=\"checkbox\" checked><label for=\"sk-estimator-id-473\" class=\"sk-toggleable__label sk-toggleable__label-arrow\">LinearRegression</label><div class=\"sk-toggleable__content\"><pre>LinearRegression()</pre></div></div></div></div></div>"
      ],
      "text/plain": [
       "LinearRegression()"
      ]
     },
     "execution_count": 1277,
     "metadata": {},
     "output_type": "execute_result"
    }
   ],
   "source": [
    "reg=LinearRegression()\n",
    "reg.fit(x_train,y_train)"
   ]
  },
  {
   "cell_type": "code",
   "execution_count": 1278,
   "id": "253cb8e4",
   "metadata": {},
   "outputs": [
    {
     "data": {
      "text/plain": [
       "0.6061918486367966"
      ]
     },
     "execution_count": 1278,
     "metadata": {},
     "output_type": "execute_result"
    }
   ],
   "source": [
    "reg.score(x_train,y_train)"
   ]
  },
  {
   "cell_type": "code",
   "execution_count": 1279,
   "id": "f8e4ca7d",
   "metadata": {},
   "outputs": [
    {
     "data": {
      "text/plain": [
       "0.6333025361326158"
      ]
     },
     "execution_count": 1279,
     "metadata": {},
     "output_type": "execute_result"
    }
   ],
   "source": [
    "reg.score(x_test,y_test)"
   ]
  },
  {
   "cell_type": "code",
   "execution_count": 1280,
   "id": "d11c1583",
   "metadata": {},
   "outputs": [],
   "source": [
    "from sklearn.ensemble import  RandomForestRegressor"
   ]
  },
  {
   "cell_type": "code",
   "execution_count": 1281,
   "id": "a87c4924",
   "metadata": {},
   "outputs": [],
   "source": [
    "c = RandomForestRegressor()"
   ]
  },
  {
   "cell_type": "code",
   "execution_count": 1282,
   "id": "5e5a5f92",
   "metadata": {},
   "outputs": [
    {
     "data": {
      "text/html": [
       "<style>#sk-container-id-252 {color: black;background-color: white;}#sk-container-id-252 pre{padding: 0;}#sk-container-id-252 div.sk-toggleable {background-color: white;}#sk-container-id-252 label.sk-toggleable__label {cursor: pointer;display: block;width: 100%;margin-bottom: 0;padding: 0.3em;box-sizing: border-box;text-align: center;}#sk-container-id-252 label.sk-toggleable__label-arrow:before {content: \"▸\";float: left;margin-right: 0.25em;color: #696969;}#sk-container-id-252 label.sk-toggleable__label-arrow:hover:before {color: black;}#sk-container-id-252 div.sk-estimator:hover label.sk-toggleable__label-arrow:before {color: black;}#sk-container-id-252 div.sk-toggleable__content {max-height: 0;max-width: 0;overflow: hidden;text-align: left;background-color: #f0f8ff;}#sk-container-id-252 div.sk-toggleable__content pre {margin: 0.2em;color: black;border-radius: 0.25em;background-color: #f0f8ff;}#sk-container-id-252 input.sk-toggleable__control:checked~div.sk-toggleable__content {max-height: 200px;max-width: 100%;overflow: auto;}#sk-container-id-252 input.sk-toggleable__control:checked~label.sk-toggleable__label-arrow:before {content: \"▾\";}#sk-container-id-252 div.sk-estimator input.sk-toggleable__control:checked~label.sk-toggleable__label {background-color: #d4ebff;}#sk-container-id-252 div.sk-label input.sk-toggleable__control:checked~label.sk-toggleable__label {background-color: #d4ebff;}#sk-container-id-252 input.sk-hidden--visually {border: 0;clip: rect(1px 1px 1px 1px);clip: rect(1px, 1px, 1px, 1px);height: 1px;margin: -1px;overflow: hidden;padding: 0;position: absolute;width: 1px;}#sk-container-id-252 div.sk-estimator {font-family: monospace;background-color: #f0f8ff;border: 1px dotted black;border-radius: 0.25em;box-sizing: border-box;margin-bottom: 0.5em;}#sk-container-id-252 div.sk-estimator:hover {background-color: #d4ebff;}#sk-container-id-252 div.sk-parallel-item::after {content: \"\";width: 100%;border-bottom: 1px solid gray;flex-grow: 1;}#sk-container-id-252 div.sk-label:hover label.sk-toggleable__label {background-color: #d4ebff;}#sk-container-id-252 div.sk-serial::before {content: \"\";position: absolute;border-left: 1px solid gray;box-sizing: border-box;top: 0;bottom: 0;left: 50%;z-index: 0;}#sk-container-id-252 div.sk-serial {display: flex;flex-direction: column;align-items: center;background-color: white;padding-right: 0.2em;padding-left: 0.2em;position: relative;}#sk-container-id-252 div.sk-item {position: relative;z-index: 1;}#sk-container-id-252 div.sk-parallel {display: flex;align-items: stretch;justify-content: center;background-color: white;position: relative;}#sk-container-id-252 div.sk-item::before, #sk-container-id-252 div.sk-parallel-item::before {content: \"\";position: absolute;border-left: 1px solid gray;box-sizing: border-box;top: 0;bottom: 0;left: 50%;z-index: -1;}#sk-container-id-252 div.sk-parallel-item {display: flex;flex-direction: column;z-index: 1;position: relative;background-color: white;}#sk-container-id-252 div.sk-parallel-item:first-child::after {align-self: flex-end;width: 50%;}#sk-container-id-252 div.sk-parallel-item:last-child::after {align-self: flex-start;width: 50%;}#sk-container-id-252 div.sk-parallel-item:only-child::after {width: 0;}#sk-container-id-252 div.sk-dashed-wrapped {border: 1px dashed gray;margin: 0 0.4em 0.5em 0.4em;box-sizing: border-box;padding-bottom: 0.4em;background-color: white;}#sk-container-id-252 div.sk-label label {font-family: monospace;font-weight: bold;display: inline-block;line-height: 1.2em;}#sk-container-id-252 div.sk-label-container {text-align: center;}#sk-container-id-252 div.sk-container {/* jupyter's `normalize.less` sets `[hidden] { display: none; }` but bootstrap.min.css set `[hidden] { display: none !important; }` so we also need the `!important` here to be able to override the default hidden behavior on the sphinx rendered scikit-learn.org. See: https://github.com/scikit-learn/scikit-learn/issues/21755 */display: inline-block !important;position: relative;}#sk-container-id-252 div.sk-text-repr-fallback {display: none;}</style><div id=\"sk-container-id-252\" class=\"sk-top-container\"><div class=\"sk-text-repr-fallback\"><pre>RandomForestRegressor()</pre><b>In a Jupyter environment, please rerun this cell to show the HTML representation or trust the notebook. <br />On GitHub, the HTML representation is unable to render, please try loading this page with nbviewer.org.</b></div><div class=\"sk-container\" hidden><div class=\"sk-item\"><div class=\"sk-estimator sk-toggleable\"><input class=\"sk-toggleable__control sk-hidden--visually\" id=\"sk-estimator-id-474\" type=\"checkbox\" checked><label for=\"sk-estimator-id-474\" class=\"sk-toggleable__label sk-toggleable__label-arrow\">RandomForestRegressor</label><div class=\"sk-toggleable__content\"><pre>RandomForestRegressor()</pre></div></div></div></div></div>"
      ],
      "text/plain": [
       "RandomForestRegressor()"
      ]
     },
     "execution_count": 1282,
     "metadata": {},
     "output_type": "execute_result"
    }
   ],
   "source": [
    "c.fit(x_train,y_train)"
   ]
  },
  {
   "cell_type": "code",
   "execution_count": 1283,
   "id": "4f48781e",
   "metadata": {},
   "outputs": [
    {
     "data": {
      "text/plain": [
       "0.982911210092437"
      ]
     },
     "execution_count": 1283,
     "metadata": {},
     "output_type": "execute_result"
    }
   ],
   "source": [
    "c.score(x_train,y_train)"
   ]
  },
  {
   "cell_type": "code",
   "execution_count": 1284,
   "id": "ee216fc2",
   "metadata": {},
   "outputs": [
    {
     "data": {
      "text/plain": [
       "0.9027071272243677"
      ]
     },
     "execution_count": 1284,
     "metadata": {},
     "output_type": "execute_result"
    }
   ],
   "source": [
    "c.score(x_test,y_test)"
   ]
  },
  {
   "cell_type": "code",
   "execution_count": 1285,
   "id": "3924fdfb",
   "metadata": {},
   "outputs": [],
   "source": [
    "from sklearn.linear_model import LinearRegression,Ridge,Lasso"
   ]
  },
  {
   "cell_type": "code",
   "execution_count": 1286,
   "id": "4e8aa07f",
   "metadata": {},
   "outputs": [
    {
     "name": "stdout",
     "output_type": "stream",
     "text": [
      "The coefficient for cement is 0.1250924096076463\n",
      "The coefficient for slag is 0.10688176848328841\n",
      "The coefficient for ash is 0.08664992384651368\n",
      "The coefficient for water is -0.10068912317389991\n",
      "The coefficient for superplastic is 0.4427194741511504\n",
      "The coefficient for coarseagg is 0.023899984612693086\n",
      "The coefficient for fineagg is 0.03527985376671282\n",
      "The coefficient for age is 0.11059531281402256\n"
     ]
    }
   ],
   "source": [
    "for idcoff, columnname in enumerate(x_train.columns):\n",
    "    print(\"The coefficient for {} is {}\".format(columnname, reg.coef_[0][idcoff]))\n"
   ]
  },
  {
   "cell_type": "code",
   "execution_count": 1287,
   "id": "52a62650",
   "metadata": {},
   "outputs": [
    {
     "name": "stdout",
     "output_type": "stream",
     "text": [
      "The intercept for our model is -52.19657114211674\n"
     ]
    }
   ],
   "source": [
    "intercept = reg.intercept_[0]\n",
    "print(\"The intercept for our model is {}\".format(intercept))\n"
   ]
  },
  {
   "cell_type": "code",
   "execution_count": 1288,
   "id": "d9723982",
   "metadata": {},
   "outputs": [
    {
     "name": "stdout",
     "output_type": "stream",
     "text": [
      "The coefficient for cement is 0.12509239796268812\n",
      "The coefficient for slag is 0.106881726514348\n",
      "The coefficient for ash is 0.08665017412084529\n",
      "The coefficient for water is -0.10069236232091966\n",
      "The coefficient for superplastic is 0.44270393551470155\n",
      "The coefficient for coarseagg is 0.023899464748097305\n",
      "The coefficient for fineagg is 0.03527958434888258\n",
      "The coefficient for age is 0.11059531603666257\n"
     ]
    }
   ],
   "source": [
    "for idcoff, columnname in enumerate(x_train.columns):\n",
    "    print(\"The coefficient for {} is {}\".format(columnname, ridge.coef_[0][idcoff]))"
   ]
  },
  {
   "cell_type": "code",
   "execution_count": 1289,
   "id": "8b725fec",
   "metadata": {},
   "outputs": [
    {
     "name": "stdout",
     "output_type": "stream",
     "text": [
      "ridge model: [[ 0.1250924   0.10688173  0.08665017 -0.10069236  0.44270394  0.02389946\n",
      "   0.03527958  0.11059532]]\n"
     ]
    }
   ],
   "source": [
    "ridge=Ridge(alpha=0.3)\n",
    "ridge.fit(x_train,y_train)\n",
    "print(\"ridge model:\",(ridge.coef_))"
   ]
  },
  {
   "cell_type": "code",
   "execution_count": 1290,
   "id": "2d52e5fc",
   "metadata": {},
   "outputs": [
    {
     "data": {
      "text/plain": [
       "0.6061918486268087"
      ]
     },
     "execution_count": 1290,
     "metadata": {},
     "output_type": "execute_result"
    }
   ],
   "source": [
    "ridge.score(x_train,y_train)"
   ]
  },
  {
   "cell_type": "code",
   "execution_count": 1291,
   "id": "9bd56cc5",
   "metadata": {},
   "outputs": [
    {
     "data": {
      "text/plain": [
       "0.6333029343547288"
      ]
     },
     "execution_count": 1291,
     "metadata": {},
     "output_type": "execute_result"
    }
   ],
   "source": [
    "ridge.score(x_test,y_test)"
   ]
  },
  {
   "cell_type": "code",
   "execution_count": 1292,
   "id": "1d3280a0",
   "metadata": {},
   "outputs": [
    {
     "name": "stdout",
     "output_type": "stream",
     "text": [
      "ridge model: [ 0.12466833  0.10630176  0.086385   -0.10597229  0.42098691  0.02278005\n",
      "  0.03445164  0.11044194]\n"
     ]
    }
   ],
   "source": [
    "lasso=Lasso(alpha=0.3)\n",
    "lasso.fit(x_train,y_train)\n",
    "print(\"ridge model:\",(lasso.coef_))"
   ]
  },
  {
   "cell_type": "code",
   "execution_count": 1293,
   "id": "d32fab7a",
   "metadata": {},
   "outputs": [
    {
     "data": {
      "text/plain": [
       "0.6061700517965138"
      ]
     },
     "execution_count": 1293,
     "metadata": {},
     "output_type": "execute_result"
    }
   ],
   "source": [
    "lasso.score(x_train,y_train)"
   ]
  },
  {
   "cell_type": "code",
   "execution_count": 1294,
   "id": "63129d34",
   "metadata": {},
   "outputs": [
    {
     "data": {
      "text/plain": [
       "0.63384908542118"
      ]
     },
     "execution_count": 1294,
     "metadata": {},
     "output_type": "execute_result"
    }
   ],
   "source": [
    "lasso.score(x_test,y_test)"
   ]
  },
  {
   "cell_type": "code",
   "execution_count": 1295,
   "id": "74fce1aa",
   "metadata": {},
   "outputs": [],
   "source": [
    "from sklearn.neighbors import KNeighborsRegressor\n",
    "from scipy.stats import zscore"
   ]
  },
  {
   "cell_type": "code",
   "execution_count": 1296,
   "id": "d51dcc1d",
   "metadata": {},
   "outputs": [
    {
     "data": {
      "text/html": [
       "<div>\n",
       "<style scoped>\n",
       "    .dataframe tbody tr th:only-of-type {\n",
       "        vertical-align: middle;\n",
       "    }\n",
       "\n",
       "    .dataframe tbody tr th {\n",
       "        vertical-align: top;\n",
       "    }\n",
       "\n",
       "    .dataframe thead th {\n",
       "        text-align: right;\n",
       "    }\n",
       "</style>\n",
       "<table border=\"1\" class=\"dataframe\">\n",
       "  <thead>\n",
       "    <tr style=\"text-align: right;\">\n",
       "      <th></th>\n",
       "      <th>cement</th>\n",
       "      <th>slag</th>\n",
       "      <th>ash</th>\n",
       "      <th>water</th>\n",
       "      <th>superplastic</th>\n",
       "      <th>coarseagg</th>\n",
       "      <th>fineagg</th>\n",
       "      <th>age</th>\n",
       "    </tr>\n",
       "  </thead>\n",
       "  <tbody>\n",
       "    <tr>\n",
       "      <th>count</th>\n",
       "      <td>1.030000e+03</td>\n",
       "      <td>1.030000e+03</td>\n",
       "      <td>1.030000e+03</td>\n",
       "      <td>1.030000e+03</td>\n",
       "      <td>1.030000e+03</td>\n",
       "      <td>1.030000e+03</td>\n",
       "      <td>1.030000e+03</td>\n",
       "      <td>1.030000e+03</td>\n",
       "    </tr>\n",
       "    <tr>\n",
       "      <th>mean</th>\n",
       "      <td>-3.858833e-16</td>\n",
       "      <td>3.915961e-16</td>\n",
       "      <td>3.634633e-16</td>\n",
       "      <td>4.909773e-16</td>\n",
       "      <td>-1.237414e-16</td>\n",
       "      <td>7.116206e-16</td>\n",
       "      <td>1.186537e-15</td>\n",
       "      <td>3.794160e-17</td>\n",
       "    </tr>\n",
       "    <tr>\n",
       "      <th>std</th>\n",
       "      <td>1.000486e+00</td>\n",
       "      <td>1.000486e+00</td>\n",
       "      <td>1.000486e+00</td>\n",
       "      <td>1.000486e+00</td>\n",
       "      <td>1.000486e+00</td>\n",
       "      <td>1.000486e+00</td>\n",
       "      <td>1.000486e+00</td>\n",
       "      <td>1.000486e+00</td>\n",
       "    </tr>\n",
       "    <tr>\n",
       "      <th>min</th>\n",
       "      <td>-1.715253e+00</td>\n",
       "      <td>-8.569712e-01</td>\n",
       "      <td>-8.471439e-01</td>\n",
       "      <td>-2.700633e+00</td>\n",
       "      <td>-1.061968e+00</td>\n",
       "      <td>-2.212138e+00</td>\n",
       "      <td>-2.249277e+00</td>\n",
       "      <td>-7.073594e-01</td>\n",
       "    </tr>\n",
       "    <tr>\n",
       "      <th>25%</th>\n",
       "      <td>-8.500535e-01</td>\n",
       "      <td>-8.569712e-01</td>\n",
       "      <td>-8.471439e-01</td>\n",
       "      <td>-7.845134e-01</td>\n",
       "      <td>-1.061968e+00</td>\n",
       "      <td>-5.265174e-01</td>\n",
       "      <td>-5.326075e-01</td>\n",
       "      <td>-6.123314e-01</td>\n",
       "    </tr>\n",
       "    <tr>\n",
       "      <th>50%</th>\n",
       "      <td>-7.915193e-02</td>\n",
       "      <td>-6.018232e-01</td>\n",
       "      <td>-8.471439e-01</td>\n",
       "      <td>1.629408e-01</td>\n",
       "      <td>4.154929e-02</td>\n",
       "      <td>-6.329352e-02</td>\n",
       "      <td>7.596735e-02</td>\n",
       "      <td>-2.797331e-01</td>\n",
       "    </tr>\n",
       "    <tr>\n",
       "      <th>75%</th>\n",
       "      <td>6.589606e-01</td>\n",
       "      <td>8.009107e-01</td>\n",
       "      <td>1.002278e+00</td>\n",
       "      <td>4.929000e-01</td>\n",
       "      <td>6.967624e-01</td>\n",
       "      <td>7.267605e-01</td>\n",
       "      <td>6.337754e-01</td>\n",
       "      <td>1.637312e-01</td>\n",
       "    </tr>\n",
       "    <tr>\n",
       "      <th>max</th>\n",
       "      <td>2.477915e+00</td>\n",
       "      <td>3.287734e+00</td>\n",
       "      <td>2.281084e+00</td>\n",
       "      <td>2.409020e+00</td>\n",
       "      <td>3.334858e+00</td>\n",
       "      <td>2.214224e+00</td>\n",
       "      <td>2.383350e+00</td>\n",
       "      <td>5.057677e+00</td>\n",
       "    </tr>\n",
       "  </tbody>\n",
       "</table>\n",
       "</div>"
      ],
      "text/plain": [
       "             cement          slag           ash         water  superplastic  \\\n",
       "count  1.030000e+03  1.030000e+03  1.030000e+03  1.030000e+03  1.030000e+03   \n",
       "mean  -3.858833e-16  3.915961e-16  3.634633e-16  4.909773e-16 -1.237414e-16   \n",
       "std    1.000486e+00  1.000486e+00  1.000486e+00  1.000486e+00  1.000486e+00   \n",
       "min   -1.715253e+00 -8.569712e-01 -8.471439e-01 -2.700633e+00 -1.061968e+00   \n",
       "25%   -8.500535e-01 -8.569712e-01 -8.471439e-01 -7.845134e-01 -1.061968e+00   \n",
       "50%   -7.915193e-02 -6.018232e-01 -8.471439e-01  1.629408e-01  4.154929e-02   \n",
       "75%    6.589606e-01  8.009107e-01  1.002278e+00  4.929000e-01  6.967624e-01   \n",
       "max    2.477915e+00  3.287734e+00  2.281084e+00  2.409020e+00  3.334858e+00   \n",
       "\n",
       "          coarseagg       fineagg           age  \n",
       "count  1.030000e+03  1.030000e+03  1.030000e+03  \n",
       "mean   7.116206e-16  1.186537e-15  3.794160e-17  \n",
       "std    1.000486e+00  1.000486e+00  1.000486e+00  \n",
       "min   -2.212138e+00 -2.249277e+00 -7.073594e-01  \n",
       "25%   -5.265174e-01 -5.326075e-01 -6.123314e-01  \n",
       "50%   -6.329352e-02  7.596735e-02 -2.797331e-01  \n",
       "75%    7.267605e-01  6.337754e-01  1.637312e-01  \n",
       "max    2.214224e+00  2.383350e+00  5.057677e+00  "
      ]
     },
     "execution_count": 1296,
     "metadata": {},
     "output_type": "execute_result"
    }
   ],
   "source": [
    "xscaled=x.apply(zscore) # convert all attributes\n",
    "xscaled.describe()"
   ]
  },
  {
   "cell_type": "code",
   "execution_count": 1297,
   "id": "49fccf8b",
   "metadata": {},
   "outputs": [],
   "source": [
    "x_train , x_test, y_train,y_test=train_test_split(x,y,test_size=0.10,random_state=2)"
   ]
  },
  {
   "cell_type": "code",
   "execution_count": 1298,
   "id": "57695464",
   "metadata": {},
   "outputs": [
    {
     "data": {
      "text/html": [
       "<style>#sk-container-id-253 {color: black;background-color: white;}#sk-container-id-253 pre{padding: 0;}#sk-container-id-253 div.sk-toggleable {background-color: white;}#sk-container-id-253 label.sk-toggleable__label {cursor: pointer;display: block;width: 100%;margin-bottom: 0;padding: 0.3em;box-sizing: border-box;text-align: center;}#sk-container-id-253 label.sk-toggleable__label-arrow:before {content: \"▸\";float: left;margin-right: 0.25em;color: #696969;}#sk-container-id-253 label.sk-toggleable__label-arrow:hover:before {color: black;}#sk-container-id-253 div.sk-estimator:hover label.sk-toggleable__label-arrow:before {color: black;}#sk-container-id-253 div.sk-toggleable__content {max-height: 0;max-width: 0;overflow: hidden;text-align: left;background-color: #f0f8ff;}#sk-container-id-253 div.sk-toggleable__content pre {margin: 0.2em;color: black;border-radius: 0.25em;background-color: #f0f8ff;}#sk-container-id-253 input.sk-toggleable__control:checked~div.sk-toggleable__content {max-height: 200px;max-width: 100%;overflow: auto;}#sk-container-id-253 input.sk-toggleable__control:checked~label.sk-toggleable__label-arrow:before {content: \"▾\";}#sk-container-id-253 div.sk-estimator input.sk-toggleable__control:checked~label.sk-toggleable__label {background-color: #d4ebff;}#sk-container-id-253 div.sk-label input.sk-toggleable__control:checked~label.sk-toggleable__label {background-color: #d4ebff;}#sk-container-id-253 input.sk-hidden--visually {border: 0;clip: rect(1px 1px 1px 1px);clip: rect(1px, 1px, 1px, 1px);height: 1px;margin: -1px;overflow: hidden;padding: 0;position: absolute;width: 1px;}#sk-container-id-253 div.sk-estimator {font-family: monospace;background-color: #f0f8ff;border: 1px dotted black;border-radius: 0.25em;box-sizing: border-box;margin-bottom: 0.5em;}#sk-container-id-253 div.sk-estimator:hover {background-color: #d4ebff;}#sk-container-id-253 div.sk-parallel-item::after {content: \"\";width: 100%;border-bottom: 1px solid gray;flex-grow: 1;}#sk-container-id-253 div.sk-label:hover label.sk-toggleable__label {background-color: #d4ebff;}#sk-container-id-253 div.sk-serial::before {content: \"\";position: absolute;border-left: 1px solid gray;box-sizing: border-box;top: 0;bottom: 0;left: 50%;z-index: 0;}#sk-container-id-253 div.sk-serial {display: flex;flex-direction: column;align-items: center;background-color: white;padding-right: 0.2em;padding-left: 0.2em;position: relative;}#sk-container-id-253 div.sk-item {position: relative;z-index: 1;}#sk-container-id-253 div.sk-parallel {display: flex;align-items: stretch;justify-content: center;background-color: white;position: relative;}#sk-container-id-253 div.sk-item::before, #sk-container-id-253 div.sk-parallel-item::before {content: \"\";position: absolute;border-left: 1px solid gray;box-sizing: border-box;top: 0;bottom: 0;left: 50%;z-index: -1;}#sk-container-id-253 div.sk-parallel-item {display: flex;flex-direction: column;z-index: 1;position: relative;background-color: white;}#sk-container-id-253 div.sk-parallel-item:first-child::after {align-self: flex-end;width: 50%;}#sk-container-id-253 div.sk-parallel-item:last-child::after {align-self: flex-start;width: 50%;}#sk-container-id-253 div.sk-parallel-item:only-child::after {width: 0;}#sk-container-id-253 div.sk-dashed-wrapped {border: 1px dashed gray;margin: 0 0.4em 0.5em 0.4em;box-sizing: border-box;padding-bottom: 0.4em;background-color: white;}#sk-container-id-253 div.sk-label label {font-family: monospace;font-weight: bold;display: inline-block;line-height: 1.2em;}#sk-container-id-253 div.sk-label-container {text-align: center;}#sk-container-id-253 div.sk-container {/* jupyter's `normalize.less` sets `[hidden] { display: none; }` but bootstrap.min.css set `[hidden] { display: none !important; }` so we also need the `!important` here to be able to override the default hidden behavior on the sphinx rendered scikit-learn.org. See: https://github.com/scikit-learn/scikit-learn/issues/21755 */display: inline-block !important;position: relative;}#sk-container-id-253 div.sk-text-repr-fallback {display: none;}</style><div id=\"sk-container-id-253\" class=\"sk-top-container\"><div class=\"sk-text-repr-fallback\"><pre>KNeighborsRegressor()</pre><b>In a Jupyter environment, please rerun this cell to show the HTML representation or trust the notebook. <br />On GitHub, the HTML representation is unable to render, please try loading this page with nbviewer.org.</b></div><div class=\"sk-container\" hidden><div class=\"sk-item\"><div class=\"sk-estimator sk-toggleable\"><input class=\"sk-toggleable__control sk-hidden--visually\" id=\"sk-estimator-id-475\" type=\"checkbox\" checked><label for=\"sk-estimator-id-475\" class=\"sk-toggleable__label sk-toggleable__label-arrow\">KNeighborsRegressor</label><div class=\"sk-toggleable__content\"><pre>KNeighborsRegressor()</pre></div></div></div></div></div>"
      ],
      "text/plain": [
       "KNeighborsRegressor()"
      ]
     },
     "execution_count": 1298,
     "metadata": {},
     "output_type": "execute_result"
    }
   ],
   "source": [
    "NNH =KNeighborsRegressor(n_neighbors=5)\n",
    "NNH.fit(x_train,y_train)"
   ]
  },
  {
   "cell_type": "code",
   "execution_count": 1299,
   "id": "8da7e29c",
   "metadata": {},
   "outputs": [
    {
     "data": {
      "text/plain": [
       "0.8177472251127668"
      ]
     },
     "execution_count": 1299,
     "metadata": {},
     "output_type": "execute_result"
    }
   ],
   "source": [
    "predicted_label=NNH.predict(x_test)\n",
    "NNH.score(x_train,y_train)"
   ]
  },
  {
   "cell_type": "code",
   "execution_count": 1300,
   "id": "5fa9cb58",
   "metadata": {},
   "outputs": [
    {
     "data": {
      "text/plain": [
       "0.7893529040992169"
      ]
     },
     "execution_count": 1300,
     "metadata": {},
     "output_type": "execute_result"
    }
   ],
   "source": [
    "NNH.score(x_test,y_test)"
   ]
  },
  {
   "cell_type": "code",
   "execution_count": 1068,
   "id": "1727d1c0",
   "metadata": {},
   "outputs": [],
   "source": [
    "from sklearn.ensemble import BaggingRegressor"
   ]
  },
  {
   "cell_type": "code",
   "execution_count": 1182,
   "id": "fff8bb9f",
   "metadata": {},
   "outputs": [],
   "source": [
    "b = BaggingRegressor(n_estimators=4,base_estimator=a)"
   ]
  },
  {
   "cell_type": "code",
   "execution_count": 1183,
   "id": "aef7a6e7",
   "metadata": {},
   "outputs": [
    {
     "data": {
      "text/html": [
       "<style>#sk-container-id-242 {color: black;background-color: white;}#sk-container-id-242 pre{padding: 0;}#sk-container-id-242 div.sk-toggleable {background-color: white;}#sk-container-id-242 label.sk-toggleable__label {cursor: pointer;display: block;width: 100%;margin-bottom: 0;padding: 0.3em;box-sizing: border-box;text-align: center;}#sk-container-id-242 label.sk-toggleable__label-arrow:before {content: \"▸\";float: left;margin-right: 0.25em;color: #696969;}#sk-container-id-242 label.sk-toggleable__label-arrow:hover:before {color: black;}#sk-container-id-242 div.sk-estimator:hover label.sk-toggleable__label-arrow:before {color: black;}#sk-container-id-242 div.sk-toggleable__content {max-height: 0;max-width: 0;overflow: hidden;text-align: left;background-color: #f0f8ff;}#sk-container-id-242 div.sk-toggleable__content pre {margin: 0.2em;color: black;border-radius: 0.25em;background-color: #f0f8ff;}#sk-container-id-242 input.sk-toggleable__control:checked~div.sk-toggleable__content {max-height: 200px;max-width: 100%;overflow: auto;}#sk-container-id-242 input.sk-toggleable__control:checked~label.sk-toggleable__label-arrow:before {content: \"▾\";}#sk-container-id-242 div.sk-estimator input.sk-toggleable__control:checked~label.sk-toggleable__label {background-color: #d4ebff;}#sk-container-id-242 div.sk-label input.sk-toggleable__control:checked~label.sk-toggleable__label {background-color: #d4ebff;}#sk-container-id-242 input.sk-hidden--visually {border: 0;clip: rect(1px 1px 1px 1px);clip: rect(1px, 1px, 1px, 1px);height: 1px;margin: -1px;overflow: hidden;padding: 0;position: absolute;width: 1px;}#sk-container-id-242 div.sk-estimator {font-family: monospace;background-color: #f0f8ff;border: 1px dotted black;border-radius: 0.25em;box-sizing: border-box;margin-bottom: 0.5em;}#sk-container-id-242 div.sk-estimator:hover {background-color: #d4ebff;}#sk-container-id-242 div.sk-parallel-item::after {content: \"\";width: 100%;border-bottom: 1px solid gray;flex-grow: 1;}#sk-container-id-242 div.sk-label:hover label.sk-toggleable__label {background-color: #d4ebff;}#sk-container-id-242 div.sk-serial::before {content: \"\";position: absolute;border-left: 1px solid gray;box-sizing: border-box;top: 0;bottom: 0;left: 50%;z-index: 0;}#sk-container-id-242 div.sk-serial {display: flex;flex-direction: column;align-items: center;background-color: white;padding-right: 0.2em;padding-left: 0.2em;position: relative;}#sk-container-id-242 div.sk-item {position: relative;z-index: 1;}#sk-container-id-242 div.sk-parallel {display: flex;align-items: stretch;justify-content: center;background-color: white;position: relative;}#sk-container-id-242 div.sk-item::before, #sk-container-id-242 div.sk-parallel-item::before {content: \"\";position: absolute;border-left: 1px solid gray;box-sizing: border-box;top: 0;bottom: 0;left: 50%;z-index: -1;}#sk-container-id-242 div.sk-parallel-item {display: flex;flex-direction: column;z-index: 1;position: relative;background-color: white;}#sk-container-id-242 div.sk-parallel-item:first-child::after {align-self: flex-end;width: 50%;}#sk-container-id-242 div.sk-parallel-item:last-child::after {align-self: flex-start;width: 50%;}#sk-container-id-242 div.sk-parallel-item:only-child::after {width: 0;}#sk-container-id-242 div.sk-dashed-wrapped {border: 1px dashed gray;margin: 0 0.4em 0.5em 0.4em;box-sizing: border-box;padding-bottom: 0.4em;background-color: white;}#sk-container-id-242 div.sk-label label {font-family: monospace;font-weight: bold;display: inline-block;line-height: 1.2em;}#sk-container-id-242 div.sk-label-container {text-align: center;}#sk-container-id-242 div.sk-container {/* jupyter's `normalize.less` sets `[hidden] { display: none; }` but bootstrap.min.css set `[hidden] { display: none !important; }` so we also need the `!important` here to be able to override the default hidden behavior on the sphinx rendered scikit-learn.org. See: https://github.com/scikit-learn/scikit-learn/issues/21755 */display: inline-block !important;position: relative;}#sk-container-id-242 div.sk-text-repr-fallback {display: none;}</style><div id=\"sk-container-id-242\" class=\"sk-top-container\"><div class=\"sk-text-repr-fallback\"><pre>BaggingRegressor(base_estimator=DecisionTreeRegressor(), n_estimators=4)</pre><b>In a Jupyter environment, please rerun this cell to show the HTML representation or trust the notebook. <br />On GitHub, the HTML representation is unable to render, please try loading this page with nbviewer.org.</b></div><div class=\"sk-container\" hidden><div class=\"sk-item sk-dashed-wrapped\"><div class=\"sk-label-container\"><div class=\"sk-label sk-toggleable\"><input class=\"sk-toggleable__control sk-hidden--visually\" id=\"sk-estimator-id-459\" type=\"checkbox\" ><label for=\"sk-estimator-id-459\" class=\"sk-toggleable__label sk-toggleable__label-arrow\">BaggingRegressor</label><div class=\"sk-toggleable__content\"><pre>BaggingRegressor(base_estimator=DecisionTreeRegressor(), n_estimators=4)</pre></div></div></div><div class=\"sk-parallel\"><div class=\"sk-parallel-item\"><div class=\"sk-item\"><div class=\"sk-label-container\"><div class=\"sk-label sk-toggleable\"><input class=\"sk-toggleable__control sk-hidden--visually\" id=\"sk-estimator-id-460\" type=\"checkbox\" ><label for=\"sk-estimator-id-460\" class=\"sk-toggleable__label sk-toggleable__label-arrow\">base_estimator: DecisionTreeRegressor</label><div class=\"sk-toggleable__content\"><pre>DecisionTreeRegressor()</pre></div></div></div><div class=\"sk-serial\"><div class=\"sk-item\"><div class=\"sk-estimator sk-toggleable\"><input class=\"sk-toggleable__control sk-hidden--visually\" id=\"sk-estimator-id-461\" type=\"checkbox\" ><label for=\"sk-estimator-id-461\" class=\"sk-toggleable__label sk-toggleable__label-arrow\">DecisionTreeRegressor</label><div class=\"sk-toggleable__content\"><pre>DecisionTreeRegressor()</pre></div></div></div></div></div></div></div></div></div></div>"
      ],
      "text/plain": [
       "BaggingRegressor(base_estimator=DecisionTreeRegressor(), n_estimators=4)"
      ]
     },
     "execution_count": 1183,
     "metadata": {},
     "output_type": "execute_result"
    }
   ],
   "source": [
    "b.fit(x_train,y_train)"
   ]
  },
  {
   "cell_type": "code",
   "execution_count": 1184,
   "id": "fcc5b438",
   "metadata": {},
   "outputs": [
    {
     "data": {
      "text/plain": [
       "0.9668388823583529"
      ]
     },
     "execution_count": 1184,
     "metadata": {},
     "output_type": "execute_result"
    }
   ],
   "source": [
    "b.score(x_train,y_train)"
   ]
  },
  {
   "cell_type": "code",
   "execution_count": 1185,
   "id": "845c4ed1",
   "metadata": {},
   "outputs": [
    {
     "data": {
      "text/plain": [
       "0.9237266344380728"
      ]
     },
     "execution_count": 1185,
     "metadata": {},
     "output_type": "execute_result"
    }
   ],
   "source": [
    "b.score(x_test,y_test)"
   ]
  },
  {
   "cell_type": "markdown",
   "id": "5854a018",
   "metadata": {},
   "source": [
    "# Pipelines"
   ]
  },
  {
   "cell_type": "code",
   "execution_count": 1301,
   "id": "5a15193b",
   "metadata": {},
   "outputs": [
    {
     "name": "stdout",
     "output_type": "stream",
     "text": [
      "test accuracy: 0.930196\n"
     ]
    }
   ],
   "source": [
    "from sklearn.preprocessing import StandardScaler\n",
    "from sklearn.decomposition import PCA\n",
    "from sklearn.ensemble import  RandomForestRegressor\n",
    "from sklearn.pipeline import Pipeline\n",
    "\n",
    "pipe_lr = Pipeline([(\"scl\",StandardScaler()),(\"clf\",RandomForestRegressor(random_state=1))])\n",
    "pipe_lr.fit(x_train,y_train)\n",
    "print(\"test accuracy: %3f\" %pipe_lr.score(x_test,y_test))"
   ]
  },
  {
   "cell_type": "code",
   "execution_count": 1302,
   "id": "d9f41519",
   "metadata": {},
   "outputs": [
    {
     "name": "stdout",
     "output_type": "stream",
     "text": [
      "test accuracy: 0.985825\n"
     ]
    }
   ],
   "source": [
    "print(\"test accuracy: %3f\" %pipe_lr.score(x_train,y_train))"
   ]
  },
  {
   "cell_type": "code",
   "execution_count": 1303,
   "id": "e412f6cf",
   "metadata": {},
   "outputs": [],
   "source": [
    "from sklearn.model_selection import GridSearchCV\n",
    "from sklearn.svm import SVR\n",
    "\n",
    "pipe_svc=Pipeline([('scl',StandardScaler()),('svc',SVR())])\n",
    "param_grid={'svc__C':[0.001,0.01,0.1,1,10,100],\n",
    "           'svc__gamma':[0.001,0.01,0.1,1,10,100],\n",
    "           }\n"
   ]
  },
  {
   "cell_type": "code",
   "execution_count": 1304,
   "id": "b472840b",
   "metadata": {},
   "outputs": [
    {
     "data": {
      "text/html": [
       "<style>#sk-container-id-254 {color: black;background-color: white;}#sk-container-id-254 pre{padding: 0;}#sk-container-id-254 div.sk-toggleable {background-color: white;}#sk-container-id-254 label.sk-toggleable__label {cursor: pointer;display: block;width: 100%;margin-bottom: 0;padding: 0.3em;box-sizing: border-box;text-align: center;}#sk-container-id-254 label.sk-toggleable__label-arrow:before {content: \"▸\";float: left;margin-right: 0.25em;color: #696969;}#sk-container-id-254 label.sk-toggleable__label-arrow:hover:before {color: black;}#sk-container-id-254 div.sk-estimator:hover label.sk-toggleable__label-arrow:before {color: black;}#sk-container-id-254 div.sk-toggleable__content {max-height: 0;max-width: 0;overflow: hidden;text-align: left;background-color: #f0f8ff;}#sk-container-id-254 div.sk-toggleable__content pre {margin: 0.2em;color: black;border-radius: 0.25em;background-color: #f0f8ff;}#sk-container-id-254 input.sk-toggleable__control:checked~div.sk-toggleable__content {max-height: 200px;max-width: 100%;overflow: auto;}#sk-container-id-254 input.sk-toggleable__control:checked~label.sk-toggleable__label-arrow:before {content: \"▾\";}#sk-container-id-254 div.sk-estimator input.sk-toggleable__control:checked~label.sk-toggleable__label {background-color: #d4ebff;}#sk-container-id-254 div.sk-label input.sk-toggleable__control:checked~label.sk-toggleable__label {background-color: #d4ebff;}#sk-container-id-254 input.sk-hidden--visually {border: 0;clip: rect(1px 1px 1px 1px);clip: rect(1px, 1px, 1px, 1px);height: 1px;margin: -1px;overflow: hidden;padding: 0;position: absolute;width: 1px;}#sk-container-id-254 div.sk-estimator {font-family: monospace;background-color: #f0f8ff;border: 1px dotted black;border-radius: 0.25em;box-sizing: border-box;margin-bottom: 0.5em;}#sk-container-id-254 div.sk-estimator:hover {background-color: #d4ebff;}#sk-container-id-254 div.sk-parallel-item::after {content: \"\";width: 100%;border-bottom: 1px solid gray;flex-grow: 1;}#sk-container-id-254 div.sk-label:hover label.sk-toggleable__label {background-color: #d4ebff;}#sk-container-id-254 div.sk-serial::before {content: \"\";position: absolute;border-left: 1px solid gray;box-sizing: border-box;top: 0;bottom: 0;left: 50%;z-index: 0;}#sk-container-id-254 div.sk-serial {display: flex;flex-direction: column;align-items: center;background-color: white;padding-right: 0.2em;padding-left: 0.2em;position: relative;}#sk-container-id-254 div.sk-item {position: relative;z-index: 1;}#sk-container-id-254 div.sk-parallel {display: flex;align-items: stretch;justify-content: center;background-color: white;position: relative;}#sk-container-id-254 div.sk-item::before, #sk-container-id-254 div.sk-parallel-item::before {content: \"\";position: absolute;border-left: 1px solid gray;box-sizing: border-box;top: 0;bottom: 0;left: 50%;z-index: -1;}#sk-container-id-254 div.sk-parallel-item {display: flex;flex-direction: column;z-index: 1;position: relative;background-color: white;}#sk-container-id-254 div.sk-parallel-item:first-child::after {align-self: flex-end;width: 50%;}#sk-container-id-254 div.sk-parallel-item:last-child::after {align-self: flex-start;width: 50%;}#sk-container-id-254 div.sk-parallel-item:only-child::after {width: 0;}#sk-container-id-254 div.sk-dashed-wrapped {border: 1px dashed gray;margin: 0 0.4em 0.5em 0.4em;box-sizing: border-box;padding-bottom: 0.4em;background-color: white;}#sk-container-id-254 div.sk-label label {font-family: monospace;font-weight: bold;display: inline-block;line-height: 1.2em;}#sk-container-id-254 div.sk-label-container {text-align: center;}#sk-container-id-254 div.sk-container {/* jupyter's `normalize.less` sets `[hidden] { display: none; }` but bootstrap.min.css set `[hidden] { display: none !important; }` so we also need the `!important` here to be able to override the default hidden behavior on the sphinx rendered scikit-learn.org. See: https://github.com/scikit-learn/scikit-learn/issues/21755 */display: inline-block !important;position: relative;}#sk-container-id-254 div.sk-text-repr-fallback {display: none;}</style><div id=\"sk-container-id-254\" class=\"sk-top-container\"><div class=\"sk-text-repr-fallback\"><pre>GridSearchCV(cv=5,\n",
       "             estimator=Pipeline(steps=[(&#x27;scl&#x27;, StandardScaler()),\n",
       "                                       (&#x27;svc&#x27;, SVR())]),\n",
       "             param_grid={&#x27;svc__C&#x27;: [0.001, 0.01, 0.1, 1, 10, 100],\n",
       "                         &#x27;svc__gamma&#x27;: [0.001, 0.01, 0.1, 1, 10, 100]})</pre><b>In a Jupyter environment, please rerun this cell to show the HTML representation or trust the notebook. <br />On GitHub, the HTML representation is unable to render, please try loading this page with nbviewer.org.</b></div><div class=\"sk-container\" hidden><div class=\"sk-item sk-dashed-wrapped\"><div class=\"sk-label-container\"><div class=\"sk-label sk-toggleable\"><input class=\"sk-toggleable__control sk-hidden--visually\" id=\"sk-estimator-id-476\" type=\"checkbox\" ><label for=\"sk-estimator-id-476\" class=\"sk-toggleable__label sk-toggleable__label-arrow\">GridSearchCV</label><div class=\"sk-toggleable__content\"><pre>GridSearchCV(cv=5,\n",
       "             estimator=Pipeline(steps=[(&#x27;scl&#x27;, StandardScaler()),\n",
       "                                       (&#x27;svc&#x27;, SVR())]),\n",
       "             param_grid={&#x27;svc__C&#x27;: [0.001, 0.01, 0.1, 1, 10, 100],\n",
       "                         &#x27;svc__gamma&#x27;: [0.001, 0.01, 0.1, 1, 10, 100]})</pre></div></div></div><div class=\"sk-parallel\"><div class=\"sk-parallel-item\"><div class=\"sk-item\"><div class=\"sk-label-container\"><div class=\"sk-label sk-toggleable\"><input class=\"sk-toggleable__control sk-hidden--visually\" id=\"sk-estimator-id-477\" type=\"checkbox\" ><label for=\"sk-estimator-id-477\" class=\"sk-toggleable__label sk-toggleable__label-arrow\">estimator: Pipeline</label><div class=\"sk-toggleable__content\"><pre>Pipeline(steps=[(&#x27;scl&#x27;, StandardScaler()), (&#x27;svc&#x27;, SVR())])</pre></div></div></div><div class=\"sk-serial\"><div class=\"sk-item\"><div class=\"sk-serial\"><div class=\"sk-item\"><div class=\"sk-estimator sk-toggleable\"><input class=\"sk-toggleable__control sk-hidden--visually\" id=\"sk-estimator-id-478\" type=\"checkbox\" ><label for=\"sk-estimator-id-478\" class=\"sk-toggleable__label sk-toggleable__label-arrow\">StandardScaler</label><div class=\"sk-toggleable__content\"><pre>StandardScaler()</pre></div></div></div><div class=\"sk-item\"><div class=\"sk-estimator sk-toggleable\"><input class=\"sk-toggleable__control sk-hidden--visually\" id=\"sk-estimator-id-479\" type=\"checkbox\" ><label for=\"sk-estimator-id-479\" class=\"sk-toggleable__label sk-toggleable__label-arrow\">SVR</label><div class=\"sk-toggleable__content\"><pre>SVR()</pre></div></div></div></div></div></div></div></div></div></div></div></div>"
      ],
      "text/plain": [
       "GridSearchCV(cv=5,\n",
       "             estimator=Pipeline(steps=[('scl', StandardScaler()),\n",
       "                                       ('svc', SVR())]),\n",
       "             param_grid={'svc__C': [0.001, 0.01, 0.1, 1, 10, 100],\n",
       "                         'svc__gamma': [0.001, 0.01, 0.1, 1, 10, 100]})"
      ]
     },
     "execution_count": 1304,
     "metadata": {},
     "output_type": "execute_result"
    }
   ],
   "source": [
    "grid=GridSearchCV(pipe_svc,param_grid=param_grid,cv=5)\n",
    "grid.fit(x_train,y_train)"
   ]
  },
  {
   "cell_type": "code",
   "execution_count": 1305,
   "id": "eadfb296",
   "metadata": {},
   "outputs": [
    {
     "name": "stdout",
     "output_type": "stream",
     "text": [
      " Best cross-validation accuracy: 0.87\n",
      " Best parameters:  {'svc__C': 100, 'svc__gamma': 0.1}\n",
      " Test set accuracy: 0.93\n"
     ]
    }
   ],
   "source": [
    "print(\" Best cross-validation accuracy: {:.2f}\". format( grid.best_score_)) \n",
    "print(\" Best parameters: \", grid.best_params_) \n",
    "print(\" Test set accuracy: {:.2f}\". format( grid.score( x_test, y_test)))"
   ]
  },
  {
   "cell_type": "code",
   "execution_count": null,
   "id": "fdb17667",
   "metadata": {},
   "outputs": [],
   "source": []
  },
  {
   "cell_type": "code",
   "execution_count": null,
   "id": "1ac07293",
   "metadata": {},
   "outputs": [],
   "source": []
  },
  {
   "cell_type": "code",
   "execution_count": null,
   "id": "7d6ccd9a",
   "metadata": {},
   "outputs": [],
   "source": []
  },
  {
   "cell_type": "code",
   "execution_count": null,
   "id": "092f8b91",
   "metadata": {},
   "outputs": [],
   "source": []
  },
  {
   "cell_type": "code",
   "execution_count": null,
   "id": "003fe829",
   "metadata": {},
   "outputs": [],
   "source": []
  },
  {
   "cell_type": "code",
   "execution_count": null,
   "id": "d92736e2",
   "metadata": {},
   "outputs": [],
   "source": []
  },
  {
   "cell_type": "markdown",
   "id": "98285633",
   "metadata": {},
   "source": [
    "## Gridsearch"
   ]
  },
  {
   "cell_type": "code",
   "execution_count": 1306,
   "id": "cde6c698",
   "metadata": {},
   "outputs": [],
   "source": [
    "from sklearn.model_selection import GridSearchCV"
   ]
  },
  {
   "cell_type": "code",
   "execution_count": 1307,
   "id": "b90c0a87",
   "metadata": {},
   "outputs": [],
   "source": [
    "param_grid = { \"bootstrap\":[True],\n",
    "               \"max_features\":[2,3],\n",
    "               \"max_depth\":[5,6],\n",
    "               \"min_samples_leaf\":[3,4],\n",
    "               \"min_samples_split\":[5,10],\n",
    "               \"n_estimators\":[5,6,7]\n",
    "    \n",
    "}"
   ]
  },
  {
   "cell_type": "code",
   "execution_count": 1308,
   "id": "9ea4242c",
   "metadata": {},
   "outputs": [],
   "source": [
    "rf = RandomForestRegressor(random_state = 1)"
   ]
  },
  {
   "cell_type": "code",
   "execution_count": 1309,
   "id": "c15d3091",
   "metadata": {},
   "outputs": [],
   "source": [
    "grid_search = GridSearchCV(estimator = rf,param_grid = param_grid,\n",
    "                          cv=3,return_train_score=True)"
   ]
  },
  {
   "cell_type": "code",
   "execution_count": 1310,
   "id": "d59249fc",
   "metadata": {},
   "outputs": [],
   "source": [
    "# fit the grid search to the data\n",
    "grid_search.fit(x_train,y_train);"
   ]
  },
  {
   "cell_type": "code",
   "execution_count": 1311,
   "id": "6e097acc",
   "metadata": {},
   "outputs": [
    {
     "data": {
      "text/plain": [
       "{'bootstrap': True,\n",
       " 'max_depth': 6,\n",
       " 'max_features': 3,\n",
       " 'min_samples_leaf': 3,\n",
       " 'min_samples_split': 5,\n",
       " 'n_estimators': 7}"
      ]
     },
     "execution_count": 1311,
     "metadata": {},
     "output_type": "execute_result"
    }
   ],
   "source": [
    "grid_search.best_params_"
   ]
  },
  {
   "cell_type": "code",
   "execution_count": 1312,
   "id": "b59c6f09",
   "metadata": {},
   "outputs": [
    {
     "data": {
      "text/plain": [
       "0.8580807617427667"
      ]
     },
     "execution_count": 1312,
     "metadata": {},
     "output_type": "execute_result"
    }
   ],
   "source": [
    "best_grid = grid_search.best_estimator_\n",
    "best_grid.score(x_test,y_test)"
   ]
  },
  {
   "cell_type": "code",
   "execution_count": 1313,
   "id": "738ac669",
   "metadata": {},
   "outputs": [
    {
     "data": {
      "text/plain": [
       "0.8733027792172018"
      ]
     },
     "execution_count": 1313,
     "metadata": {},
     "output_type": "execute_result"
    }
   ],
   "source": [
    "best_grid.score(x_train,y_train)"
   ]
  },
  {
   "cell_type": "code",
   "execution_count": 1314,
   "id": "80a519c2",
   "metadata": {},
   "outputs": [
    {
     "data": {
      "text/html": [
       "<style>#sk-container-id-255 {color: black;background-color: white;}#sk-container-id-255 pre{padding: 0;}#sk-container-id-255 div.sk-toggleable {background-color: white;}#sk-container-id-255 label.sk-toggleable__label {cursor: pointer;display: block;width: 100%;margin-bottom: 0;padding: 0.3em;box-sizing: border-box;text-align: center;}#sk-container-id-255 label.sk-toggleable__label-arrow:before {content: \"▸\";float: left;margin-right: 0.25em;color: #696969;}#sk-container-id-255 label.sk-toggleable__label-arrow:hover:before {color: black;}#sk-container-id-255 div.sk-estimator:hover label.sk-toggleable__label-arrow:before {color: black;}#sk-container-id-255 div.sk-toggleable__content {max-height: 0;max-width: 0;overflow: hidden;text-align: left;background-color: #f0f8ff;}#sk-container-id-255 div.sk-toggleable__content pre {margin: 0.2em;color: black;border-radius: 0.25em;background-color: #f0f8ff;}#sk-container-id-255 input.sk-toggleable__control:checked~div.sk-toggleable__content {max-height: 200px;max-width: 100%;overflow: auto;}#sk-container-id-255 input.sk-toggleable__control:checked~label.sk-toggleable__label-arrow:before {content: \"▾\";}#sk-container-id-255 div.sk-estimator input.sk-toggleable__control:checked~label.sk-toggleable__label {background-color: #d4ebff;}#sk-container-id-255 div.sk-label input.sk-toggleable__control:checked~label.sk-toggleable__label {background-color: #d4ebff;}#sk-container-id-255 input.sk-hidden--visually {border: 0;clip: rect(1px 1px 1px 1px);clip: rect(1px, 1px, 1px, 1px);height: 1px;margin: -1px;overflow: hidden;padding: 0;position: absolute;width: 1px;}#sk-container-id-255 div.sk-estimator {font-family: monospace;background-color: #f0f8ff;border: 1px dotted black;border-radius: 0.25em;box-sizing: border-box;margin-bottom: 0.5em;}#sk-container-id-255 div.sk-estimator:hover {background-color: #d4ebff;}#sk-container-id-255 div.sk-parallel-item::after {content: \"\";width: 100%;border-bottom: 1px solid gray;flex-grow: 1;}#sk-container-id-255 div.sk-label:hover label.sk-toggleable__label {background-color: #d4ebff;}#sk-container-id-255 div.sk-serial::before {content: \"\";position: absolute;border-left: 1px solid gray;box-sizing: border-box;top: 0;bottom: 0;left: 50%;z-index: 0;}#sk-container-id-255 div.sk-serial {display: flex;flex-direction: column;align-items: center;background-color: white;padding-right: 0.2em;padding-left: 0.2em;position: relative;}#sk-container-id-255 div.sk-item {position: relative;z-index: 1;}#sk-container-id-255 div.sk-parallel {display: flex;align-items: stretch;justify-content: center;background-color: white;position: relative;}#sk-container-id-255 div.sk-item::before, #sk-container-id-255 div.sk-parallel-item::before {content: \"\";position: absolute;border-left: 1px solid gray;box-sizing: border-box;top: 0;bottom: 0;left: 50%;z-index: -1;}#sk-container-id-255 div.sk-parallel-item {display: flex;flex-direction: column;z-index: 1;position: relative;background-color: white;}#sk-container-id-255 div.sk-parallel-item:first-child::after {align-self: flex-end;width: 50%;}#sk-container-id-255 div.sk-parallel-item:last-child::after {align-self: flex-start;width: 50%;}#sk-container-id-255 div.sk-parallel-item:only-child::after {width: 0;}#sk-container-id-255 div.sk-dashed-wrapped {border: 1px dashed gray;margin: 0 0.4em 0.5em 0.4em;box-sizing: border-box;padding-bottom: 0.4em;background-color: white;}#sk-container-id-255 div.sk-label label {font-family: monospace;font-weight: bold;display: inline-block;line-height: 1.2em;}#sk-container-id-255 div.sk-label-container {text-align: center;}#sk-container-id-255 div.sk-container {/* jupyter's `normalize.less` sets `[hidden] { display: none; }` but bootstrap.min.css set `[hidden] { display: none !important; }` so we also need the `!important` here to be able to override the default hidden behavior on the sphinx rendered scikit-learn.org. See: https://github.com/scikit-learn/scikit-learn/issues/21755 */display: inline-block !important;position: relative;}#sk-container-id-255 div.sk-text-repr-fallback {display: none;}</style><div id=\"sk-container-id-255\" class=\"sk-top-container\"><div class=\"sk-text-repr-fallback\"><pre>RandomForestRegressor(random_state=1)</pre><b>In a Jupyter environment, please rerun this cell to show the HTML representation or trust the notebook. <br />On GitHub, the HTML representation is unable to render, please try loading this page with nbviewer.org.</b></div><div class=\"sk-container\" hidden><div class=\"sk-item\"><div class=\"sk-estimator sk-toggleable\"><input class=\"sk-toggleable__control sk-hidden--visually\" id=\"sk-estimator-id-480\" type=\"checkbox\" checked><label for=\"sk-estimator-id-480\" class=\"sk-toggleable__label sk-toggleable__label-arrow\">RandomForestRegressor</label><div class=\"sk-toggleable__content\"><pre>RandomForestRegressor(random_state=1)</pre></div></div></div></div></div>"
      ],
      "text/plain": [
       "RandomForestRegressor(random_state=1)"
      ]
     },
     "execution_count": 1314,
     "metadata": {},
     "output_type": "execute_result"
    }
   ],
   "source": [
    "rf.fit(x_train,y_train)"
   ]
  },
  {
   "cell_type": "code",
   "execution_count": 1315,
   "id": "6e646e5c",
   "metadata": {},
   "outputs": [
    {
     "data": {
      "text/plain": [
       "0.9858291230837057"
      ]
     },
     "execution_count": 1315,
     "metadata": {},
     "output_type": "execute_result"
    }
   ],
   "source": [
    "rf.score(x_train,y_train)"
   ]
  },
  {
   "cell_type": "code",
   "execution_count": 1316,
   "id": "ffa0ea7d",
   "metadata": {},
   "outputs": [
    {
     "data": {
      "text/plain": [
       "0.9302350695178778"
      ]
     },
     "execution_count": 1316,
     "metadata": {},
     "output_type": "execute_result"
    }
   ],
   "source": [
    "rf.score(x_test,y_test)"
   ]
  },
  {
   "cell_type": "markdown",
   "id": "477e7fce",
   "metadata": {},
   "source": [
    "# RandomSearchCV"
   ]
  },
  {
   "cell_type": "code",
   "execution_count": 1210,
   "id": "de1d6eba",
   "metadata": {},
   "outputs": [],
   "source": [
    "import numpy as np\n",
    "\n"
   ]
  },
  {
   "cell_type": "code",
   "execution_count": 1211,
   "id": "165defe9",
   "metadata": {},
   "outputs": [],
   "source": [
    "from sklearn.model_selection import RandomizedSearchCV\n",
    "\n",
    "# Number of trees in random forest\n",
    "n_estimators = [int(x) for x in np.linspace(start = 10 , stop = 15, num = 2)]   # returns evenly spaced 10 numbers\n",
    "# Number of features to consider at every split\n",
    "max_features = ['auto', 'sqrt']\n",
    "# Maximum number of levels in tree\n",
    "max_depth = [int(x) for x in np.linspace(5, 10, num = 2)]  # returns evenly spaced numbers can be changed to any\n",
    "max_depth.append(None)\n",
    "# Minimum number of samples required to split a node\n",
    "min_samples_split = [2, 5, 10]\n",
    "# Minimum number of samples required at each leaf node\n",
    "min_samples_leaf = [1, 2, 4]\n",
    "# Method of selecting samples for training each tree\n",
    "bootstrap = [True, False]\n"
   ]
  },
  {
   "cell_type": "code",
   "execution_count": 1212,
   "id": "77f1b9b4",
   "metadata": {},
   "outputs": [
    {
     "name": "stdout",
     "output_type": "stream",
     "text": [
      "{'n_estimators': [10, 15], 'max_features': ['auto', 'sqrt'], 'max_depth': [5, 10, None], 'min_samples_split': [2, 5, 10], 'min_samples_leaf': [1, 2, 4], 'bootstrap': [True, False]}\n"
     ]
    }
   ],
   "source": [
    "# Create the random grid\n",
    "random_grid = {'n_estimators': n_estimators,\n",
    "               'max_features': max_features,\n",
    "               'max_depth': max_depth,\n",
    "               'min_samples_split': min_samples_split,\n",
    "               'min_samples_leaf': min_samples_leaf,\n",
    "               'bootstrap': bootstrap}\n",
    "\n",
    "print(random_grid)\n"
   ]
  },
  {
   "cell_type": "code",
   "execution_count": 1213,
   "id": "809e0326",
   "metadata": {},
   "outputs": [
    {
     "name": "stdout",
     "output_type": "stream",
     "text": [
      "Fitting 3 folds for each of 5 candidates, totalling 15 fits\n"
     ]
    }
   ],
   "source": [
    "# Use the random grid to search for best hyperparameters\n",
    "\n",
    "# Random search of parameters, using 3 fold cross validation, \n",
    "# search across 100 different combinations, and use all available cores\n",
    "rf_random = RandomizedSearchCV(estimator=rf, param_distributions=random_grid,\n",
    "                              n_iter = 5, scoring='neg_mean_absolute_error', \n",
    "                              cv = 3, verbose=2, random_state=42, n_jobs=-1,\n",
    "                              return_train_score=True)\n",
    "\n",
    "# Fit the random search model\n",
    "rf_random.fit(x_train, y_train);\n"
   ]
  },
  {
   "cell_type": "code",
   "execution_count": 1214,
   "id": "7769cf05",
   "metadata": {},
   "outputs": [
    {
     "data": {
      "text/plain": [
       "0.9150457692707353"
      ]
     },
     "execution_count": 1214,
     "metadata": {},
     "output_type": "execute_result"
    }
   ],
   "source": [
    "best_random=rf_random.best_estimator_\n",
    "best_random.score(x_test,y_test)\n"
   ]
  },
  {
   "cell_type": "code",
   "execution_count": 1215,
   "id": "f35551ea",
   "metadata": {},
   "outputs": [],
   "source": [
    "# data normalization with sklearn\n",
    "from sklearn.preprocessing import MinMaxScaler\n",
    "\n",
    "# fit scaler on training data\n",
    "norm = MinMaxScaler().fit(x_train)\n",
    "\n",
    "# transform training data\n",
    "x_train_norm = norm.transform(x_train)\n",
    "\n",
    "# transform testing dataabs\n",
    "x_test_norm = norm.transform(x_test)"
   ]
  },
  {
   "cell_type": "code",
   "execution_count": 1216,
   "id": "47159e1f",
   "metadata": {},
   "outputs": [
    {
     "data": {
      "text/plain": [
       "array([[0.33059361, 0.        , 0.62518741, ..., 0.83081395, 0.55983224,\n",
       "        0.03571429],\n",
       "       [0.25114155, 0.        , 0.62368816, ..., 0.82674419, 0.5560441 ,\n",
       "        0.1510989 ],\n",
       "       [0.48356164, 0.        , 0.56271864, ..., 0.36133721, 0.51112765,\n",
       "        0.07417582],\n",
       "       ...,\n",
       "       [0.22054795, 0.37047919, 0.        , ..., 0.51569767, 0.62639518,\n",
       "        0.00549451],\n",
       "       [0.59497717, 0.52885624, 0.        , ..., 0.41773256, 0.43780018,\n",
       "        0.24725275],\n",
       "       [0.73744292, 0.29744666, 0.        , ..., 0.14854651, 0.79307312,\n",
       "        0.24725275]])"
      ]
     },
     "execution_count": 1216,
     "metadata": {},
     "output_type": "execute_result"
    }
   ],
   "source": [
    "x_train_norm"
   ]
  },
  {
   "cell_type": "code",
   "execution_count": 1217,
   "id": "f26b731c",
   "metadata": {},
   "outputs": [],
   "source": [
    "# data standardization with  sklearn\n",
    "from sklearn.preprocessing import StandardScaler\n",
    "\n",
    "# copy of datasets\n",
    "x_train_stand = x_train.copy()\n",
    "x_test_stand = x_test.copy()\n",
    "\n",
    "# numerical features\n",
    "num_cols = ['cement','slag','ash','water','superplastic','coarseagg','fineagg','age',]\n",
    "\n",
    "# apply standardization on numerical features\n",
    "for i in num_cols:\n",
    "    \n",
    "    # fit on training data column\n",
    "    scale = StandardScaler().fit(x_train_stand[[i]])\n",
    "    \n",
    "    # transform the training data column\n",
    "    x_train_stand[i] = scale.transform(x_train_stand[[i]])\n",
    "    \n",
    "    # transform the testing data column\n",
    "    x_test_stand[i] = scale.transform(x_test_stand[[i]])"
   ]
  },
  {
   "cell_type": "code",
   "execution_count": 1218,
   "id": "ee8c13cc",
   "metadata": {},
   "outputs": [
    {
     "data": {
      "text/html": [
       "<div>\n",
       "<style scoped>\n",
       "    .dataframe tbody tr th:only-of-type {\n",
       "        vertical-align: middle;\n",
       "    }\n",
       "\n",
       "    .dataframe tbody tr th {\n",
       "        vertical-align: top;\n",
       "    }\n",
       "\n",
       "    .dataframe thead th {\n",
       "        text-align: right;\n",
       "    }\n",
       "</style>\n",
       "<table border=\"1\" class=\"dataframe\">\n",
       "  <thead>\n",
       "    <tr style=\"text-align: right;\">\n",
       "      <th></th>\n",
       "      <th>cement</th>\n",
       "      <th>slag</th>\n",
       "      <th>ash</th>\n",
       "      <th>water</th>\n",
       "      <th>superplastic</th>\n",
       "      <th>coarseagg</th>\n",
       "      <th>fineagg</th>\n",
       "      <th>age</th>\n",
       "    </tr>\n",
       "  </thead>\n",
       "  <tbody>\n",
       "    <tr>\n",
       "      <th>310</th>\n",
       "      <td>-0.328496</td>\n",
       "      <td>-0.851593</td>\n",
       "      <td>1.106320</td>\n",
       "      <td>-1.806181</td>\n",
       "      <td>1.010587</td>\n",
       "      <td>1.472793</td>\n",
       "      <td>0.324892</td>\n",
       "      <td>-0.494974</td>\n",
       "    </tr>\n",
       "    <tr>\n",
       "      <th>894</th>\n",
       "      <td>-0.660492</td>\n",
       "      <td>-0.851593</td>\n",
       "      <td>1.101637</td>\n",
       "      <td>-1.062034</td>\n",
       "      <td>0.286859</td>\n",
       "      <td>1.454843</td>\n",
       "      <td>0.307392</td>\n",
       "      <td>0.164235</td>\n",
       "    </tr>\n",
       "    <tr>\n",
       "      <th>512</th>\n",
       "      <td>0.310690</td>\n",
       "      <td>-0.851593</td>\n",
       "      <td>0.911167</td>\n",
       "      <td>-0.545398</td>\n",
       "      <td>0.683187</td>\n",
       "      <td>-0.597793</td>\n",
       "      <td>0.099889</td>\n",
       "      <td>-0.275238</td>\n",
       "    </tr>\n",
       "    <tr>\n",
       "      <th>273</th>\n",
       "      <td>1.036692</td>\n",
       "      <td>1.329525</td>\n",
       "      <td>-0.846774</td>\n",
       "      <td>-1.682946</td>\n",
       "      <td>2.733750</td>\n",
       "      <td>-0.349066</td>\n",
       "      <td>-0.238865</td>\n",
       "      <td>-0.275238</td>\n",
       "    </tr>\n",
       "    <tr>\n",
       "      <th>281</th>\n",
       "      <td>1.896255</td>\n",
       "      <td>-0.851593</td>\n",
       "      <td>-0.846774</td>\n",
       "      <td>0.502095</td>\n",
       "      <td>-1.057208</td>\n",
       "      <td>-0.458044</td>\n",
       "      <td>-0.783872</td>\n",
       "      <td>-0.275238</td>\n",
       "    </tr>\n",
       "    <tr>\n",
       "      <th>...</th>\n",
       "      <td>...</td>\n",
       "      <td>...</td>\n",
       "      <td>...</td>\n",
       "      <td>...</td>\n",
       "      <td>...</td>\n",
       "      <td>...</td>\n",
       "      <td>...</td>\n",
       "      <td>...</td>\n",
       "    </tr>\n",
       "    <tr>\n",
       "      <th>360</th>\n",
       "      <td>-1.261518</td>\n",
       "      <td>0.752510</td>\n",
       "      <td>0.854963</td>\n",
       "      <td>0.549493</td>\n",
       "      <td>-0.023310</td>\n",
       "      <td>-1.024731</td>\n",
       "      <td>0.063639</td>\n",
       "      <td>-0.275238</td>\n",
       "    </tr>\n",
       "    <tr>\n",
       "      <th>466</th>\n",
       "      <td>1.505111</td>\n",
       "      <td>1.191041</td>\n",
       "      <td>-0.846774</td>\n",
       "      <td>0.217708</td>\n",
       "      <td>0.855503</td>\n",
       "      <td>-1.115760</td>\n",
       "      <td>-0.837623</td>\n",
       "      <td>-0.667624</td>\n",
       "    </tr>\n",
       "    <tr>\n",
       "      <th>299</th>\n",
       "      <td>-0.788329</td>\n",
       "      <td>0.676344</td>\n",
       "      <td>-0.846774</td>\n",
       "      <td>0.502095</td>\n",
       "      <td>-1.057208</td>\n",
       "      <td>0.083000</td>\n",
       "      <td>0.632396</td>\n",
       "      <td>-0.667624</td>\n",
       "    </tr>\n",
       "    <tr>\n",
       "      <th>493</th>\n",
       "      <td>0.776247</td>\n",
       "      <td>1.329525</td>\n",
       "      <td>-0.846774</td>\n",
       "      <td>-0.782387</td>\n",
       "      <td>0.941661</td>\n",
       "      <td>-0.349066</td>\n",
       "      <td>-0.238865</td>\n",
       "      <td>0.713576</td>\n",
       "    </tr>\n",
       "    <tr>\n",
       "      <th>527</th>\n",
       "      <td>1.371550</td>\n",
       "      <td>0.375142</td>\n",
       "      <td>-0.846774</td>\n",
       "      <td>-1.322722</td>\n",
       "      <td>1.786010</td>\n",
       "      <td>-1.536287</td>\n",
       "      <td>1.402406</td>\n",
       "      <td>0.713576</td>\n",
       "    </tr>\n",
       "  </tbody>\n",
       "</table>\n",
       "<p>927 rows × 8 columns</p>\n",
       "</div>"
      ],
      "text/plain": [
       "       cement      slag       ash     water  superplastic  coarseagg  \\\n",
       "310 -0.328496 -0.851593  1.106320 -1.806181      1.010587   1.472793   \n",
       "894 -0.660492 -0.851593  1.101637 -1.062034      0.286859   1.454843   \n",
       "512  0.310690 -0.851593  0.911167 -0.545398      0.683187  -0.597793   \n",
       "273  1.036692  1.329525 -0.846774 -1.682946      2.733750  -0.349066   \n",
       "281  1.896255 -0.851593 -0.846774  0.502095     -1.057208  -0.458044   \n",
       "..        ...       ...       ...       ...           ...        ...   \n",
       "360 -1.261518  0.752510  0.854963  0.549493     -0.023310  -1.024731   \n",
       "466  1.505111  1.191041 -0.846774  0.217708      0.855503  -1.115760   \n",
       "299 -0.788329  0.676344 -0.846774  0.502095     -1.057208   0.083000   \n",
       "493  0.776247  1.329525 -0.846774 -0.782387      0.941661  -0.349066   \n",
       "527  1.371550  0.375142 -0.846774 -1.322722      1.786010  -1.536287   \n",
       "\n",
       "      fineagg       age  \n",
       "310  0.324892 -0.494974  \n",
       "894  0.307392  0.164235  \n",
       "512  0.099889 -0.275238  \n",
       "273 -0.238865 -0.275238  \n",
       "281 -0.783872 -0.275238  \n",
       "..        ...       ...  \n",
       "360  0.063639 -0.275238  \n",
       "466 -0.837623 -0.667624  \n",
       "299  0.632396 -0.667624  \n",
       "493 -0.238865  0.713576  \n",
       "527  1.402406  0.713576  \n",
       "\n",
       "[927 rows x 8 columns]"
      ]
     },
     "execution_count": 1218,
     "metadata": {},
     "output_type": "execute_result"
    }
   ],
   "source": [
    "x_train_stand"
   ]
  },
  {
   "cell_type": "code",
   "execution_count": 1219,
   "id": "2b1a4e5c",
   "metadata": {},
   "outputs": [
    {
     "data": {
      "text/html": [
       "<style>#sk-container-id-245 {color: black;background-color: white;}#sk-container-id-245 pre{padding: 0;}#sk-container-id-245 div.sk-toggleable {background-color: white;}#sk-container-id-245 label.sk-toggleable__label {cursor: pointer;display: block;width: 100%;margin-bottom: 0;padding: 0.3em;box-sizing: border-box;text-align: center;}#sk-container-id-245 label.sk-toggleable__label-arrow:before {content: \"▸\";float: left;margin-right: 0.25em;color: #696969;}#sk-container-id-245 label.sk-toggleable__label-arrow:hover:before {color: black;}#sk-container-id-245 div.sk-estimator:hover label.sk-toggleable__label-arrow:before {color: black;}#sk-container-id-245 div.sk-toggleable__content {max-height: 0;max-width: 0;overflow: hidden;text-align: left;background-color: #f0f8ff;}#sk-container-id-245 div.sk-toggleable__content pre {margin: 0.2em;color: black;border-radius: 0.25em;background-color: #f0f8ff;}#sk-container-id-245 input.sk-toggleable__control:checked~div.sk-toggleable__content {max-height: 200px;max-width: 100%;overflow: auto;}#sk-container-id-245 input.sk-toggleable__control:checked~label.sk-toggleable__label-arrow:before {content: \"▾\";}#sk-container-id-245 div.sk-estimator input.sk-toggleable__control:checked~label.sk-toggleable__label {background-color: #d4ebff;}#sk-container-id-245 div.sk-label input.sk-toggleable__control:checked~label.sk-toggleable__label {background-color: #d4ebff;}#sk-container-id-245 input.sk-hidden--visually {border: 0;clip: rect(1px 1px 1px 1px);clip: rect(1px, 1px, 1px, 1px);height: 1px;margin: -1px;overflow: hidden;padding: 0;position: absolute;width: 1px;}#sk-container-id-245 div.sk-estimator {font-family: monospace;background-color: #f0f8ff;border: 1px dotted black;border-radius: 0.25em;box-sizing: border-box;margin-bottom: 0.5em;}#sk-container-id-245 div.sk-estimator:hover {background-color: #d4ebff;}#sk-container-id-245 div.sk-parallel-item::after {content: \"\";width: 100%;border-bottom: 1px solid gray;flex-grow: 1;}#sk-container-id-245 div.sk-label:hover label.sk-toggleable__label {background-color: #d4ebff;}#sk-container-id-245 div.sk-serial::before {content: \"\";position: absolute;border-left: 1px solid gray;box-sizing: border-box;top: 0;bottom: 0;left: 50%;z-index: 0;}#sk-container-id-245 div.sk-serial {display: flex;flex-direction: column;align-items: center;background-color: white;padding-right: 0.2em;padding-left: 0.2em;position: relative;}#sk-container-id-245 div.sk-item {position: relative;z-index: 1;}#sk-container-id-245 div.sk-parallel {display: flex;align-items: stretch;justify-content: center;background-color: white;position: relative;}#sk-container-id-245 div.sk-item::before, #sk-container-id-245 div.sk-parallel-item::before {content: \"\";position: absolute;border-left: 1px solid gray;box-sizing: border-box;top: 0;bottom: 0;left: 50%;z-index: -1;}#sk-container-id-245 div.sk-parallel-item {display: flex;flex-direction: column;z-index: 1;position: relative;background-color: white;}#sk-container-id-245 div.sk-parallel-item:first-child::after {align-self: flex-end;width: 50%;}#sk-container-id-245 div.sk-parallel-item:last-child::after {align-self: flex-start;width: 50%;}#sk-container-id-245 div.sk-parallel-item:only-child::after {width: 0;}#sk-container-id-245 div.sk-dashed-wrapped {border: 1px dashed gray;margin: 0 0.4em 0.5em 0.4em;box-sizing: border-box;padding-bottom: 0.4em;background-color: white;}#sk-container-id-245 div.sk-label label {font-family: monospace;font-weight: bold;display: inline-block;line-height: 1.2em;}#sk-container-id-245 div.sk-label-container {text-align: center;}#sk-container-id-245 div.sk-container {/* jupyter's `normalize.less` sets `[hidden] { display: none; }` but bootstrap.min.css set `[hidden] { display: none !important; }` so we also need the `!important` here to be able to override the default hidden behavior on the sphinx rendered scikit-learn.org. See: https://github.com/scikit-learn/scikit-learn/issues/21755 */display: inline-block !important;position: relative;}#sk-container-id-245 div.sk-text-repr-fallback {display: none;}</style><div id=\"sk-container-id-245\" class=\"sk-top-container\"><div class=\"sk-text-repr-fallback\"><pre>RandomForestRegressor(random_state=1)</pre><b>In a Jupyter environment, please rerun this cell to show the HTML representation or trust the notebook. <br />On GitHub, the HTML representation is unable to render, please try loading this page with nbviewer.org.</b></div><div class=\"sk-container\" hidden><div class=\"sk-item\"><div class=\"sk-estimator sk-toggleable\"><input class=\"sk-toggleable__control sk-hidden--visually\" id=\"sk-estimator-id-464\" type=\"checkbox\" checked><label for=\"sk-estimator-id-464\" class=\"sk-toggleable__label sk-toggleable__label-arrow\">RandomForestRegressor</label><div class=\"sk-toggleable__content\"><pre>RandomForestRegressor(random_state=1)</pre></div></div></div></div></div>"
      ],
      "text/plain": [
       "RandomForestRegressor(random_state=1)"
      ]
     },
     "execution_count": 1219,
     "metadata": {},
     "output_type": "execute_result"
    }
   ],
   "source": [
    "rf.fit(x_train_stand,y_train)"
   ]
  },
  {
   "cell_type": "code",
   "execution_count": 1220,
   "id": "76ad5723",
   "metadata": {},
   "outputs": [
    {
     "data": {
      "text/plain": [
       "0.98582494068746"
      ]
     },
     "execution_count": 1220,
     "metadata": {},
     "output_type": "execute_result"
    }
   ],
   "source": [
    "rf.score(x_train_stand,y_train)"
   ]
  },
  {
   "cell_type": "code",
   "execution_count": 1221,
   "id": "2ec41dd0",
   "metadata": {},
   "outputs": [
    {
     "data": {
      "text/plain": [
       "0.9301963616858834"
      ]
     },
     "execution_count": 1221,
     "metadata": {},
     "output_type": "execute_result"
    }
   ],
   "source": [
    "rf.score(x_test_stand,y_test)"
   ]
  },
  {
   "cell_type": "code",
   "execution_count": 1222,
   "id": "224c4422",
   "metadata": {},
   "outputs": [],
   "source": [
    "from sklearn.tree import DecisionTreeRegressor"
   ]
  },
  {
   "cell_type": "code",
   "execution_count": 1223,
   "id": "ea2ed8da",
   "metadata": {},
   "outputs": [],
   "source": [
    "b = DecisionTreeRegressor()"
   ]
  },
  {
   "cell_type": "code",
   "execution_count": 1224,
   "id": "8cdf42a6",
   "metadata": {},
   "outputs": [
    {
     "data": {
      "text/html": [
       "<style>#sk-container-id-246 {color: black;background-color: white;}#sk-container-id-246 pre{padding: 0;}#sk-container-id-246 div.sk-toggleable {background-color: white;}#sk-container-id-246 label.sk-toggleable__label {cursor: pointer;display: block;width: 100%;margin-bottom: 0;padding: 0.3em;box-sizing: border-box;text-align: center;}#sk-container-id-246 label.sk-toggleable__label-arrow:before {content: \"▸\";float: left;margin-right: 0.25em;color: #696969;}#sk-container-id-246 label.sk-toggleable__label-arrow:hover:before {color: black;}#sk-container-id-246 div.sk-estimator:hover label.sk-toggleable__label-arrow:before {color: black;}#sk-container-id-246 div.sk-toggleable__content {max-height: 0;max-width: 0;overflow: hidden;text-align: left;background-color: #f0f8ff;}#sk-container-id-246 div.sk-toggleable__content pre {margin: 0.2em;color: black;border-radius: 0.25em;background-color: #f0f8ff;}#sk-container-id-246 input.sk-toggleable__control:checked~div.sk-toggleable__content {max-height: 200px;max-width: 100%;overflow: auto;}#sk-container-id-246 input.sk-toggleable__control:checked~label.sk-toggleable__label-arrow:before {content: \"▾\";}#sk-container-id-246 div.sk-estimator input.sk-toggleable__control:checked~label.sk-toggleable__label {background-color: #d4ebff;}#sk-container-id-246 div.sk-label input.sk-toggleable__control:checked~label.sk-toggleable__label {background-color: #d4ebff;}#sk-container-id-246 input.sk-hidden--visually {border: 0;clip: rect(1px 1px 1px 1px);clip: rect(1px, 1px, 1px, 1px);height: 1px;margin: -1px;overflow: hidden;padding: 0;position: absolute;width: 1px;}#sk-container-id-246 div.sk-estimator {font-family: monospace;background-color: #f0f8ff;border: 1px dotted black;border-radius: 0.25em;box-sizing: border-box;margin-bottom: 0.5em;}#sk-container-id-246 div.sk-estimator:hover {background-color: #d4ebff;}#sk-container-id-246 div.sk-parallel-item::after {content: \"\";width: 100%;border-bottom: 1px solid gray;flex-grow: 1;}#sk-container-id-246 div.sk-label:hover label.sk-toggleable__label {background-color: #d4ebff;}#sk-container-id-246 div.sk-serial::before {content: \"\";position: absolute;border-left: 1px solid gray;box-sizing: border-box;top: 0;bottom: 0;left: 50%;z-index: 0;}#sk-container-id-246 div.sk-serial {display: flex;flex-direction: column;align-items: center;background-color: white;padding-right: 0.2em;padding-left: 0.2em;position: relative;}#sk-container-id-246 div.sk-item {position: relative;z-index: 1;}#sk-container-id-246 div.sk-parallel {display: flex;align-items: stretch;justify-content: center;background-color: white;position: relative;}#sk-container-id-246 div.sk-item::before, #sk-container-id-246 div.sk-parallel-item::before {content: \"\";position: absolute;border-left: 1px solid gray;box-sizing: border-box;top: 0;bottom: 0;left: 50%;z-index: -1;}#sk-container-id-246 div.sk-parallel-item {display: flex;flex-direction: column;z-index: 1;position: relative;background-color: white;}#sk-container-id-246 div.sk-parallel-item:first-child::after {align-self: flex-end;width: 50%;}#sk-container-id-246 div.sk-parallel-item:last-child::after {align-self: flex-start;width: 50%;}#sk-container-id-246 div.sk-parallel-item:only-child::after {width: 0;}#sk-container-id-246 div.sk-dashed-wrapped {border: 1px dashed gray;margin: 0 0.4em 0.5em 0.4em;box-sizing: border-box;padding-bottom: 0.4em;background-color: white;}#sk-container-id-246 div.sk-label label {font-family: monospace;font-weight: bold;display: inline-block;line-height: 1.2em;}#sk-container-id-246 div.sk-label-container {text-align: center;}#sk-container-id-246 div.sk-container {/* jupyter's `normalize.less` sets `[hidden] { display: none; }` but bootstrap.min.css set `[hidden] { display: none !important; }` so we also need the `!important` here to be able to override the default hidden behavior on the sphinx rendered scikit-learn.org. See: https://github.com/scikit-learn/scikit-learn/issues/21755 */display: inline-block !important;position: relative;}#sk-container-id-246 div.sk-text-repr-fallback {display: none;}</style><div id=\"sk-container-id-246\" class=\"sk-top-container\"><div class=\"sk-text-repr-fallback\"><pre>DecisionTreeRegressor()</pre><b>In a Jupyter environment, please rerun this cell to show the HTML representation or trust the notebook. <br />On GitHub, the HTML representation is unable to render, please try loading this page with nbviewer.org.</b></div><div class=\"sk-container\" hidden><div class=\"sk-item\"><div class=\"sk-estimator sk-toggleable\"><input class=\"sk-toggleable__control sk-hidden--visually\" id=\"sk-estimator-id-465\" type=\"checkbox\" checked><label for=\"sk-estimator-id-465\" class=\"sk-toggleable__label sk-toggleable__label-arrow\">DecisionTreeRegressor</label><div class=\"sk-toggleable__content\"><pre>DecisionTreeRegressor()</pre></div></div></div></div></div>"
      ],
      "text/plain": [
       "DecisionTreeRegressor()"
      ]
     },
     "execution_count": 1224,
     "metadata": {},
     "output_type": "execute_result"
    }
   ],
   "source": [
    "b.fit(x_train_stand,y_train)"
   ]
  },
  {
   "cell_type": "code",
   "execution_count": 1225,
   "id": "106af33f",
   "metadata": {},
   "outputs": [
    {
     "data": {
      "text/plain": [
       "0.9958528400133728"
      ]
     },
     "execution_count": 1225,
     "metadata": {},
     "output_type": "execute_result"
    }
   ],
   "source": [
    "b.score(x_train_stand,y_train)"
   ]
  },
  {
   "cell_type": "code",
   "execution_count": 1226,
   "id": "e53cb38e",
   "metadata": {},
   "outputs": [
    {
     "data": {
      "text/plain": [
       "0.8957892750538793"
      ]
     },
     "execution_count": 1226,
     "metadata": {},
     "output_type": "execute_result"
    }
   ],
   "source": [
    "b.score(x_test_stand,y_test)"
   ]
  },
  {
   "cell_type": "code",
   "execution_count": 1227,
   "id": "f7392e49",
   "metadata": {},
   "outputs": [],
   "source": [
    "\n",
    "# data normalization with sklearn\n",
    "from sklearn.preprocessing import MinMaxScaler\n",
    "\n",
    "# fit scaler on training data\n",
    "norm = MinMaxScaler().fit(x_train)\n",
    "\n",
    "# transform training data\n",
    "x_train_norm = norm.transform(x_train)\n",
    "\n",
    "# transform testing dataabs\n",
    "x_test_norm = norm.transform(x_test)"
   ]
  },
  {
   "cell_type": "code",
   "execution_count": 1228,
   "id": "c3a77097",
   "metadata": {},
   "outputs": [
    {
     "name": "stdout",
     "output_type": "stream",
     "text": [
      "[[0.42465753 0.53725079 0.         0.625      0.         0.38081395\n",
      "  0.33497937 0.24450549]\n",
      " [0.31050228 0.         0.         0.56042435 0.         0.92151163\n",
      "  0.52763309 0.07417582]\n",
      " [0.01438356 0.45442462 0.         0.73108856 0.         0.39883721\n",
      "  0.68998174 0.01648352]\n",
      " [0.96575342 0.         0.         0.59732472 0.         0.94186047\n",
      "  0.0514104  0.49175824]\n",
      " [0.41552511 0.04197272 0.70464768 0.5050738  0.21568627 0.11918605\n",
      "  0.56010282 0.07417582]\n",
      " [0.30593607 0.         0.         0.63422509 0.         0.48546512\n",
      "  0.78739092 0.49175824]\n",
      " [0.78538813 0.06715635 0.3948026  0.34824723 0.40392157 0.48255814\n",
      "  0.31928567 0.07417582]\n",
      " [0.76940639 0.49527807 0.         0.56964945 0.43529412 0.24389535\n",
      "  0.30819184 0.24725275]\n",
      " [0.66438356 0.         0.         0.625      0.         0.40406977\n",
      "  0.44375296 0.00549451]\n",
      " [0.25776256 0.15054215 0.6091954  0.28920664 0.37647059 0.62005814\n",
      "  0.50490428 0.03571429]\n",
      " [0.25776256 0.15054215 0.6091954  0.28920664 0.37647059 0.62005814\n",
      "  0.50490428 0.27197802]\n",
      " [0.31073059 0.         0.47026487 0.57610701 0.2745098  0.43284884\n",
      "  0.68457011 0.27197802]\n",
      " [0.58675799 0.05316544 0.70464768 0.27444649 0.42745098 0.40988372\n",
      "  0.56010282 0.1510989 ]\n",
      " [0.1826484  0.12647779 0.60969515 0.42389299 0.32156863 0.75116279\n",
      "  0.50517486 0.07417582]\n",
      " [0.45205479 0.         0.59970015 0.80950185 0.39215686 0.22383721\n",
      "  0.36257864 0.07417582]\n",
      " [0.10502283 0.48968171 0.         0.43127306 0.07843137 0.57848837\n",
      "  0.63315971 0.07417582]\n",
      " [0.4630137  0.         0.49775112 0.66190037 0.38431373 0.46046512\n",
      "  0.30088615 0.07417582]\n",
      " [0.14840183 0.21098286 0.83458271 0.36669742 0.30980392 0.5997093\n",
      "  0.47649327 0.00549451]\n",
      " [0.48242009 0.73368311 0.         0.47278598 0.3372549  0.71482558\n",
      "  0.04816343 0.01648352]\n",
      " [0.49497717 0.5946135  0.         0.29012915 0.56078431 0.14854651\n",
      "  0.77494419 0.24725275]\n",
      " [0.29634703 0.         0.60769615 0.45894834 0.2627451  0.74244186\n",
      "  0.49922208 0.00549451]\n",
      " [0.38949772 0.         0.44777611 0.68680812 0.41568627 0.37877907\n",
      "  0.45511736 0.07417582]\n",
      " [0.25114155 0.395383   0.         0.73108856 0.         0.50116279\n",
      "  0.42210647 0.00549451]\n",
      " [0.15273973 0.11808325 0.62118941 0.31411439 0.42352941 0.81337209\n",
      "  0.54711493 0.00549451]\n",
      " [0.62100457 0.52941588 0.         0.42297048 0.39607843 0.36366279\n",
      "  0.44023541 0.00549451]\n",
      " [0.21164384 0.         0.50224888 0.38145756 0.29411765 0.59709302\n",
      "  0.84394237 0.03571429]\n",
      " [0.12968037 0.66652676 0.         0.56688192 0.         0.69651163\n",
      "  0.37962525 0.01648352]\n",
      " [0.25136986 0.         0.60769615 0.51706642 0.22352941 0.74593023\n",
      "  0.50138673 0.07417582]\n",
      " [0.12054795 0.51318643 0.         0.63699262 0.35686275 0.22151163\n",
      "  0.7405804  0.07417582]\n",
      " [0.27123288 0.41189227 0.         0.56688192 0.         0.73837209\n",
      "  0.40668335 0.01648352]\n",
      " [0.15593607 0.43511717 0.         0.56688192 0.         0.65581395\n",
      "  0.35256714 0.01648352]\n",
      " [0.39954338 0.         0.         0.61577491 0.         0.48546512\n",
      "  0.70892241 0.00549451]\n",
      " [0.48630137 0.38335082 0.         0.19142066 0.23137255 0.95639535\n",
      "  0.40857742 0.07417582]\n",
      " [0.54794521 0.10633088 0.         0.95710332 0.         0.38081395\n",
      "  0.20564162 0.24450549]\n",
      " [0.12146119 0.51458552 0.71564218 0.64160517 0.36078431 0.22848837\n",
      "  0.28275722 0.07417582]\n",
      " [0.44223744 0.         0.47776112 0.43588561 0.34901961 0.44796512\n",
      "  0.71758101 0.27197802]\n",
      " [0.25114155 0.         0.62368816 0.32057196 0.30588235 0.82674419\n",
      "  0.5560441  0.00549451]\n",
      " [0.1826484  0.12647779 0.60969515 0.42389299 0.32156863 0.75116279\n",
      "  0.50517486 0.1510989 ]\n",
      " [0.10502283 0.         0.68465767 0.31134686 0.62745098 0.58430233\n",
      "  0.63857133 0.07417582]\n",
      " [0.16392694 0.26135012 0.79910045 0.44326568 0.38039216 0.5994186\n",
      "  0.41290672 0.03571429]\n",
      " [0.30821918 0.25743267 0.35482259 1.         0.23529412 0.15116279\n",
      "  0.27328688 0.07417582]\n",
      " [0.34360731 0.         0.         0.56688192 0.         0.90290698\n",
      "  0.51491578 0.07417582]\n",
      " [0.74315068 0.13291361 0.         0.95710332 0.         0.38081395\n",
      "  0.         0.24450549]\n",
      " [0.4        0.27366212 0.12243878 0.33625461 0.43921569 0.75784884\n",
      "  0.51004532 0.03571429]\n",
      " [0.14155251 0.45610353 0.63968016 0.67112546 0.31372549 0.46511628\n",
      "  0.1271731  0.07417582]\n",
      " [0.74315068 0.13291361 0.         0.95710332 0.         0.38081395\n",
      "  0.         0.01648352]\n",
      " [0.46118721 0.21266177 0.         0.95710332 0.         0.38081395\n",
      "  0.20564162 0.73901099]\n",
      " [0.73744292 0.29744666 0.         0.25046125 0.72941176 0.39244186\n",
      "  0.56740851 0.24725275]\n",
      " [0.30936073 0.66456803 0.         0.95710332 0.         0.38081395\n",
      "  0.         0.49175824]\n",
      " [0.48150685 0.44910808 0.         0.49215867 0.37647059 0.33604651\n",
      "  0.44781168 0.07417582]\n",
      " [0.44223744 0.         0.47776112 0.43588561 0.34901961 0.44796512\n",
      "  0.71758101 0.1510989 ]\n",
      " [0.14931507 0.36348374 0.64267866 0.47278598 0.30588235 0.59680233\n",
      "  0.41290672 0.1510989 ]\n",
      " [0.34269406 0.27170339 0.37781109 0.64160517 0.3254902  0.1002907\n",
      "  0.61530136 0.07417582]\n",
      " [0.50616438 0.79132564 0.         0.54935424 0.40392157 0.4119186\n",
      "  0.17831293 0.1510989 ]\n",
      " [0.64611872 0.         0.         0.56964945 0.         0.47965116\n",
      "  0.45728201 0.01648352]\n",
      " [0.2283105  0.03077999 0.70464768 0.75415129 0.06666667 0.40988372\n",
      "  0.56010282 0.1510989 ]\n",
      " [0.65068493 0.05596362 0.46976512 0.30212177 0.45490196 0.39825581\n",
      "  0.67915849 0.01648352]\n",
      " [0.31073059 0.         0.47026487 0.57610701 0.2745098  0.43284884\n",
      "  0.68457011 0.00549451]\n",
      " [0.10022831 0.64498076 0.         0.72186347 0.13333333 0.0755814\n",
      "  0.75167422 0.07417582]\n",
      " [0.08584475 0.58593914 0.         0.625      0.         0.71511628\n",
      "  0.5760671  0.49175824]\n",
      " [0.65068493 0.05596362 0.46976512 0.30212177 0.54509804 0.39825581\n",
      "  0.67915849 0.07417582]\n",
      " [0.29634703 0.         0.60769615 0.45894834 0.2627451  0.74244186\n",
      "  0.49922208 0.07417582]\n",
      " [0.6347032  0.         0.         0.95710332 0.         0.38081395\n",
      "  0.20564162 0.24450549]\n",
      " [1.         0.         0.         0.44972325 0.         0.94186047\n",
      "  0.0514104  0.00549451]\n",
      " [0.29155251 0.         0.59070465 0.6545203  0.23921569 0.66017442\n",
      "  0.44267064 0.00549451]\n",
      " [0.52283105 0.         0.         0.625      0.         0.65116279\n",
      "  0.61421904 0.00549451]\n",
      " [0.09109589 0.46617698 0.64817591 0.45433579 0.42745098 0.2372093\n",
      "  0.51762159 0.07417582]\n",
      " [0.62328767 0.26246939 0.         0.02167897 0.91764706 0.14854651\n",
      "  1.         0.01648352]\n",
      " [0.62100457 0.52941588 0.         0.42297048 0.39607843 0.36366279\n",
      "  0.44023541 0.1510989 ]\n",
      " [0.39954338 0.         0.         0.61577491 0.         0.48546512\n",
      "  0.70892241 0.07417582]\n",
      " [0.34109589 0.         0.5912044  0.59271218 0.25098039 0.66104651\n",
      "  0.44294122 0.00549451]\n",
      " [0.63356164 0.42308499 0.         0.27352399 0.62352941 0.96889535\n",
      "  0.02976392 0.07417582]\n",
      " [0.73744292 0.29744666 0.         0.25046125 0.72941176 0.39244186\n",
      "  0.56740851 0.07417582]\n",
      " [0.35       0.2764603  0.3848076  0.59363469 0.25490196 0.34302326\n",
      "  0.42021241 0.07417582]\n",
      " [0.25525114 0.27450157 0.12243878 0.52998155 0.2627451  0.77034884\n",
      "  0.51816275 0.27197802]\n",
      " [0.34703196 0.         0.         0.68035055 0.         0.48546512\n",
      "  0.72786309 0.00549451]\n",
      " [0.56621005 0.         0.         0.72647601 0.         0.50290698\n",
      "  0.48975174 0.01648352]\n",
      " [0.42968037 0.54144806 0.         0.56688192 0.         0.57325581\n",
      "  0.29845092 0.07417582]\n",
      " [0.42465753 0.53725079 0.         0.625      0.         0.38081395\n",
      "  0.33497937 0.01648352]\n",
      " [0.8630137  0.         0.         0.625      0.         0.39244186\n",
      "  0.34363796 0.24450549]\n",
      " [0.34109589 0.         0.5912044  0.59271218 0.25098039 0.66104651\n",
      "  0.44294122 0.1510989 ]\n",
      " [0.34109589 0.         0.5912044  0.63330258 0.22745098 0.70523256\n",
      "  0.43374146 0.1510989 ]\n",
      " [0.22054795 0.37047919 0.         0.625      0.         0.51569767\n",
      "  0.62639518 0.49175824]\n",
      " [0.96575342 0.         0.         0.59732472 0.         0.94186047\n",
      "  0.0514104  0.00549451]\n",
      " [0.74315068 0.13291361 0.         0.95710332 0.         0.38081395\n",
      "  0.         0.07417582]\n",
      " [0.19223744 0.34725428 0.         0.56688192 0.         0.82093023\n",
      "  0.46079957 0.07417582]\n",
      " [0.76940639 0.49527807 0.         0.56964945 0.43529412 0.24389535\n",
      "  0.30819184 0.1510989 ]\n",
      " [0.25114155 0.395383   0.         0.73108856 0.         0.50116279\n",
      "  0.42210647 0.24450549]\n",
      " [0.33059361 0.         0.62518741 0.17573801 0.47058824 0.83081395\n",
      "  0.55983224 0.07417582]\n",
      " [0.33584475 0.         0.49375312 0.31226937 0.50196078 0.54302326\n",
      "  0.79821416 0.27197802]\n",
      " [0.25456621 0.         0.87056472 0.32241697 0.45882353 0.70523256\n",
      "  0.48136373 0.07417582]\n",
      " [0.83789954 0.32794683 0.         0.125      1.         0.14854651\n",
      "  0.66698234 0.1510989 ]\n",
      " [0.11118721 0.         0.92603698 0.39160517 0.61176471 0.79505814\n",
      "  0.2272881  0.07417582]\n",
      " [0.44246575 0.         0.         0.56688192 0.         0.84418605\n",
      "  0.47432862 0.01648352]\n",
      " [0.12876712 0.         0.97401299 0.88053506 0.43137255 0.28110465\n",
      "  0.3217209  0.07417582]\n",
      " [0.59497717 0.52885624 0.         0.375      0.45490196 0.41773256\n",
      "  0.43780018 0.01648352]\n",
      " [0.59497717 0.52885624 0.         0.375      0.45490196 0.41773256\n",
      "  0.43780018 0.1510989 ]\n",
      " [0.56621005 0.         0.         0.72647601 0.         0.50290698\n",
      "  0.48975174 0.03571429]\n",
      " [0.26689498 0.         0.62018991 0.31595941 0.44313725 0.80726744\n",
      "  0.54359738 0.03571429]\n",
      " [0.34109589 0.         0.5912044  0.59271218 0.25098039 0.66104651\n",
      "  0.44294122 0.27197802]\n",
      " [0.9086758  0.         0.         0.24677122 0.35294118 0.6744186\n",
      "  0.16505445 0.07417582]\n",
      " [0.20091324 0.53165442 0.         0.95710332 0.         0.38081395\n",
      "  0.20564162 1.        ]\n",
      " [0.09589041 0.04197272 0.97451274 0.47739852 0.23529412 0.63953488\n",
      "  0.31116823 0.07417582]]\n"
     ]
    }
   ],
   "source": [
    "print(x_test_norm)"
   ]
  },
  {
   "cell_type": "code",
   "execution_count": 1229,
   "id": "8ba1aeb2",
   "metadata": {},
   "outputs": [],
   "source": [
    "x=df.drop(['strength'],axis=1)\n",
    "y=df[['strength']]"
   ]
  },
  {
   "cell_type": "code",
   "execution_count": 1230,
   "id": "d906f67b",
   "metadata": {},
   "outputs": [],
   "source": [
    "x_train_norm,x_test_norm,y_train_norm,y_test_norm=train_test_split(x,y,test_size=0.3,random_state=1)"
   ]
  },
  {
   "cell_type": "code",
   "execution_count": 1231,
   "id": "0578e0b1",
   "metadata": {},
   "outputs": [],
   "source": [
    "from sklearn.tree import DecisionTreeRegressor"
   ]
  },
  {
   "cell_type": "code",
   "execution_count": 1232,
   "id": "bf8b5248",
   "metadata": {},
   "outputs": [],
   "source": [
    "b = DecisionTreeRegressor()"
   ]
  },
  {
   "cell_type": "code",
   "execution_count": 1233,
   "id": "3b087c30",
   "metadata": {},
   "outputs": [
    {
     "data": {
      "text/html": [
       "<style>#sk-container-id-247 {color: black;background-color: white;}#sk-container-id-247 pre{padding: 0;}#sk-container-id-247 div.sk-toggleable {background-color: white;}#sk-container-id-247 label.sk-toggleable__label {cursor: pointer;display: block;width: 100%;margin-bottom: 0;padding: 0.3em;box-sizing: border-box;text-align: center;}#sk-container-id-247 label.sk-toggleable__label-arrow:before {content: \"▸\";float: left;margin-right: 0.25em;color: #696969;}#sk-container-id-247 label.sk-toggleable__label-arrow:hover:before {color: black;}#sk-container-id-247 div.sk-estimator:hover label.sk-toggleable__label-arrow:before {color: black;}#sk-container-id-247 div.sk-toggleable__content {max-height: 0;max-width: 0;overflow: hidden;text-align: left;background-color: #f0f8ff;}#sk-container-id-247 div.sk-toggleable__content pre {margin: 0.2em;color: black;border-radius: 0.25em;background-color: #f0f8ff;}#sk-container-id-247 input.sk-toggleable__control:checked~div.sk-toggleable__content {max-height: 200px;max-width: 100%;overflow: auto;}#sk-container-id-247 input.sk-toggleable__control:checked~label.sk-toggleable__label-arrow:before {content: \"▾\";}#sk-container-id-247 div.sk-estimator input.sk-toggleable__control:checked~label.sk-toggleable__label {background-color: #d4ebff;}#sk-container-id-247 div.sk-label input.sk-toggleable__control:checked~label.sk-toggleable__label {background-color: #d4ebff;}#sk-container-id-247 input.sk-hidden--visually {border: 0;clip: rect(1px 1px 1px 1px);clip: rect(1px, 1px, 1px, 1px);height: 1px;margin: -1px;overflow: hidden;padding: 0;position: absolute;width: 1px;}#sk-container-id-247 div.sk-estimator {font-family: monospace;background-color: #f0f8ff;border: 1px dotted black;border-radius: 0.25em;box-sizing: border-box;margin-bottom: 0.5em;}#sk-container-id-247 div.sk-estimator:hover {background-color: #d4ebff;}#sk-container-id-247 div.sk-parallel-item::after {content: \"\";width: 100%;border-bottom: 1px solid gray;flex-grow: 1;}#sk-container-id-247 div.sk-label:hover label.sk-toggleable__label {background-color: #d4ebff;}#sk-container-id-247 div.sk-serial::before {content: \"\";position: absolute;border-left: 1px solid gray;box-sizing: border-box;top: 0;bottom: 0;left: 50%;z-index: 0;}#sk-container-id-247 div.sk-serial {display: flex;flex-direction: column;align-items: center;background-color: white;padding-right: 0.2em;padding-left: 0.2em;position: relative;}#sk-container-id-247 div.sk-item {position: relative;z-index: 1;}#sk-container-id-247 div.sk-parallel {display: flex;align-items: stretch;justify-content: center;background-color: white;position: relative;}#sk-container-id-247 div.sk-item::before, #sk-container-id-247 div.sk-parallel-item::before {content: \"\";position: absolute;border-left: 1px solid gray;box-sizing: border-box;top: 0;bottom: 0;left: 50%;z-index: -1;}#sk-container-id-247 div.sk-parallel-item {display: flex;flex-direction: column;z-index: 1;position: relative;background-color: white;}#sk-container-id-247 div.sk-parallel-item:first-child::after {align-self: flex-end;width: 50%;}#sk-container-id-247 div.sk-parallel-item:last-child::after {align-self: flex-start;width: 50%;}#sk-container-id-247 div.sk-parallel-item:only-child::after {width: 0;}#sk-container-id-247 div.sk-dashed-wrapped {border: 1px dashed gray;margin: 0 0.4em 0.5em 0.4em;box-sizing: border-box;padding-bottom: 0.4em;background-color: white;}#sk-container-id-247 div.sk-label label {font-family: monospace;font-weight: bold;display: inline-block;line-height: 1.2em;}#sk-container-id-247 div.sk-label-container {text-align: center;}#sk-container-id-247 div.sk-container {/* jupyter's `normalize.less` sets `[hidden] { display: none; }` but bootstrap.min.css set `[hidden] { display: none !important; }` so we also need the `!important` here to be able to override the default hidden behavior on the sphinx rendered scikit-learn.org. See: https://github.com/scikit-learn/scikit-learn/issues/21755 */display: inline-block !important;position: relative;}#sk-container-id-247 div.sk-text-repr-fallback {display: none;}</style><div id=\"sk-container-id-247\" class=\"sk-top-container\"><div class=\"sk-text-repr-fallback\"><pre>DecisionTreeRegressor()</pre><b>In a Jupyter environment, please rerun this cell to show the HTML representation or trust the notebook. <br />On GitHub, the HTML representation is unable to render, please try loading this page with nbviewer.org.</b></div><div class=\"sk-container\" hidden><div class=\"sk-item\"><div class=\"sk-estimator sk-toggleable\"><input class=\"sk-toggleable__control sk-hidden--visually\" id=\"sk-estimator-id-466\" type=\"checkbox\" checked><label for=\"sk-estimator-id-466\" class=\"sk-toggleable__label sk-toggleable__label-arrow\">DecisionTreeRegressor</label><div class=\"sk-toggleable__content\"><pre>DecisionTreeRegressor()</pre></div></div></div></div></div>"
      ],
      "text/plain": [
       "DecisionTreeRegressor()"
      ]
     },
     "execution_count": 1233,
     "metadata": {},
     "output_type": "execute_result"
    }
   ],
   "source": [
    "b.fit(x_train_norm,y_train_norm)"
   ]
  },
  {
   "cell_type": "code",
   "execution_count": 1234,
   "id": "4f5941c5",
   "metadata": {},
   "outputs": [
    {
     "data": {
      "text/plain": [
       "0.9948531095488773"
      ]
     },
     "execution_count": 1234,
     "metadata": {},
     "output_type": "execute_result"
    }
   ],
   "source": [
    "b.score(x_train_norm,y_train_norm)"
   ]
  },
  {
   "cell_type": "code",
   "execution_count": 1235,
   "id": "80c54daa",
   "metadata": {},
   "outputs": [
    {
     "data": {
      "text/plain": [
       "0.8626606207940709"
      ]
     },
     "execution_count": 1235,
     "metadata": {},
     "output_type": "execute_result"
    }
   ],
   "source": [
    "b.score(x_test_norm,y_test_norm)"
   ]
  },
  {
   "cell_type": "code",
   "execution_count": 1236,
   "id": "307cc7c0",
   "metadata": {},
   "outputs": [
    {
     "data": {
      "text/html": [
       "<style>#sk-container-id-248 {color: black;background-color: white;}#sk-container-id-248 pre{padding: 0;}#sk-container-id-248 div.sk-toggleable {background-color: white;}#sk-container-id-248 label.sk-toggleable__label {cursor: pointer;display: block;width: 100%;margin-bottom: 0;padding: 0.3em;box-sizing: border-box;text-align: center;}#sk-container-id-248 label.sk-toggleable__label-arrow:before {content: \"▸\";float: left;margin-right: 0.25em;color: #696969;}#sk-container-id-248 label.sk-toggleable__label-arrow:hover:before {color: black;}#sk-container-id-248 div.sk-estimator:hover label.sk-toggleable__label-arrow:before {color: black;}#sk-container-id-248 div.sk-toggleable__content {max-height: 0;max-width: 0;overflow: hidden;text-align: left;background-color: #f0f8ff;}#sk-container-id-248 div.sk-toggleable__content pre {margin: 0.2em;color: black;border-radius: 0.25em;background-color: #f0f8ff;}#sk-container-id-248 input.sk-toggleable__control:checked~div.sk-toggleable__content {max-height: 200px;max-width: 100%;overflow: auto;}#sk-container-id-248 input.sk-toggleable__control:checked~label.sk-toggleable__label-arrow:before {content: \"▾\";}#sk-container-id-248 div.sk-estimator input.sk-toggleable__control:checked~label.sk-toggleable__label {background-color: #d4ebff;}#sk-container-id-248 div.sk-label input.sk-toggleable__control:checked~label.sk-toggleable__label {background-color: #d4ebff;}#sk-container-id-248 input.sk-hidden--visually {border: 0;clip: rect(1px 1px 1px 1px);clip: rect(1px, 1px, 1px, 1px);height: 1px;margin: -1px;overflow: hidden;padding: 0;position: absolute;width: 1px;}#sk-container-id-248 div.sk-estimator {font-family: monospace;background-color: #f0f8ff;border: 1px dotted black;border-radius: 0.25em;box-sizing: border-box;margin-bottom: 0.5em;}#sk-container-id-248 div.sk-estimator:hover {background-color: #d4ebff;}#sk-container-id-248 div.sk-parallel-item::after {content: \"\";width: 100%;border-bottom: 1px solid gray;flex-grow: 1;}#sk-container-id-248 div.sk-label:hover label.sk-toggleable__label {background-color: #d4ebff;}#sk-container-id-248 div.sk-serial::before {content: \"\";position: absolute;border-left: 1px solid gray;box-sizing: border-box;top: 0;bottom: 0;left: 50%;z-index: 0;}#sk-container-id-248 div.sk-serial {display: flex;flex-direction: column;align-items: center;background-color: white;padding-right: 0.2em;padding-left: 0.2em;position: relative;}#sk-container-id-248 div.sk-item {position: relative;z-index: 1;}#sk-container-id-248 div.sk-parallel {display: flex;align-items: stretch;justify-content: center;background-color: white;position: relative;}#sk-container-id-248 div.sk-item::before, #sk-container-id-248 div.sk-parallel-item::before {content: \"\";position: absolute;border-left: 1px solid gray;box-sizing: border-box;top: 0;bottom: 0;left: 50%;z-index: -1;}#sk-container-id-248 div.sk-parallel-item {display: flex;flex-direction: column;z-index: 1;position: relative;background-color: white;}#sk-container-id-248 div.sk-parallel-item:first-child::after {align-self: flex-end;width: 50%;}#sk-container-id-248 div.sk-parallel-item:last-child::after {align-self: flex-start;width: 50%;}#sk-container-id-248 div.sk-parallel-item:only-child::after {width: 0;}#sk-container-id-248 div.sk-dashed-wrapped {border: 1px dashed gray;margin: 0 0.4em 0.5em 0.4em;box-sizing: border-box;padding-bottom: 0.4em;background-color: white;}#sk-container-id-248 div.sk-label label {font-family: monospace;font-weight: bold;display: inline-block;line-height: 1.2em;}#sk-container-id-248 div.sk-label-container {text-align: center;}#sk-container-id-248 div.sk-container {/* jupyter's `normalize.less` sets `[hidden] { display: none; }` but bootstrap.min.css set `[hidden] { display: none !important; }` so we also need the `!important` here to be able to override the default hidden behavior on the sphinx rendered scikit-learn.org. See: https://github.com/scikit-learn/scikit-learn/issues/21755 */display: inline-block !important;position: relative;}#sk-container-id-248 div.sk-text-repr-fallback {display: none;}</style><div id=\"sk-container-id-248\" class=\"sk-top-container\"><div class=\"sk-text-repr-fallback\"><pre>RandomForestRegressor(random_state=1)</pre><b>In a Jupyter environment, please rerun this cell to show the HTML representation or trust the notebook. <br />On GitHub, the HTML representation is unable to render, please try loading this page with nbviewer.org.</b></div><div class=\"sk-container\" hidden><div class=\"sk-item\"><div class=\"sk-estimator sk-toggleable\"><input class=\"sk-toggleable__control sk-hidden--visually\" id=\"sk-estimator-id-467\" type=\"checkbox\" checked><label for=\"sk-estimator-id-467\" class=\"sk-toggleable__label sk-toggleable__label-arrow\">RandomForestRegressor</label><div class=\"sk-toggleable__content\"><pre>RandomForestRegressor(random_state=1)</pre></div></div></div></div></div>"
      ],
      "text/plain": [
       "RandomForestRegressor(random_state=1)"
      ]
     },
     "execution_count": 1236,
     "metadata": {},
     "output_type": "execute_result"
    }
   ],
   "source": [
    "rf.fit(x_train_norm,y_train_norm)"
   ]
  },
  {
   "cell_type": "code",
   "execution_count": 1237,
   "id": "2f112cf3",
   "metadata": {},
   "outputs": [
    {
     "data": {
      "text/plain": [
       "0.9829690998152484"
      ]
     },
     "execution_count": 1237,
     "metadata": {},
     "output_type": "execute_result"
    }
   ],
   "source": [
    "rf.score(x_train_norm,y_train_norm)"
   ]
  },
  {
   "cell_type": "code",
   "execution_count": 1238,
   "id": "d18d9ed8",
   "metadata": {},
   "outputs": [
    {
     "data": {
      "text/plain": [
       "0.9072112980492124"
      ]
     },
     "execution_count": 1238,
     "metadata": {},
     "output_type": "execute_result"
    }
   ],
   "source": [
    "rf.score(x_test_norm,y_test_norm)"
   ]
  },
  {
   "cell_type": "code",
   "execution_count": null,
   "id": "022bb642",
   "metadata": {},
   "outputs": [],
   "source": []
  }
 ],
 "metadata": {
  "kernelspec": {
   "display_name": "Python 3 (ipykernel)",
   "language": "python",
   "name": "python3"
  },
  "language_info": {
   "codemirror_mode": {
    "name": "ipython",
    "version": 3
   },
   "file_extension": ".py",
   "mimetype": "text/x-python",
   "name": "python",
   "nbconvert_exporter": "python",
   "pygments_lexer": "ipython3",
   "version": "3.9.7"
  }
 },
 "nbformat": 4,
 "nbformat_minor": 5
}
